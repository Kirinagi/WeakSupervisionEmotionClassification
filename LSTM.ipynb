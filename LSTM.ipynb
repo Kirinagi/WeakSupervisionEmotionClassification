{
 "cells": [
  {
   "cell_type": "code",
   "execution_count": 1,
   "id": "677b04d8",
   "metadata": {},
   "outputs": [],
   "source": [
    "import re\n",
    "import tensorflow as tf\n",
    "import pandas as pd\n",
    "import numpy as np\n",
    "import rubrix as rb\n",
    "import keras\n",
    "from sklearn.preprocessing import LabelEncoder\n",
    "from sklearn.model_selection import train_test_split\n",
    "from keras.preprocessing.text import Tokenizer\n",
    "from keras_preprocessing.sequence import pad_sequences\n",
    "from sklearn.metrics import classification_report\n",
    "from sklearn.metrics import accuracy_score\n",
    "import math\n",
    "import nltk"
   ]
  },
  {
   "cell_type": "code",
   "execution_count": 2,
   "id": "c1af8234",
   "metadata": {},
   "outputs": [],
   "source": [
    "data_labelled = pd.read_csv(\"D:\\Downloads\\Twitter_Emotion_Dataset_with_label.csv\")"
   ]
  },
  {
   "cell_type": "code",
   "execution_count": 3,
   "id": "5af5a136",
   "metadata": {},
   "outputs": [],
   "source": [
    "snorkel_data = pd.read_csv(\"D:\\Downloads\\Snorkel_dataset_v7.csv\")"
   ]
  },
  {
   "cell_type": "code",
   "execution_count": 258,
   "id": "2a68e6bd",
   "metadata": {},
   "outputs": [],
   "source": [
    "merged_data= pd.read_csv(\"D:\\Downloads\\Twitter_Emotion_Dataset_with_label_Merged.csv\")"
   ]
  },
  {
   "cell_type": "code",
   "execution_count": 2,
   "id": "bafcf09b",
   "metadata": {},
   "outputs": [],
   "source": [
    "snorkel_data_20 = pd.read_csv(\"D:\\Downloads\\Snorkel_dataset_with_20_test.csv\")"
   ]
  },
  {
   "cell_type": "code",
   "execution_count": 19,
   "id": "dd87bc25",
   "metadata": {},
   "outputs": [
    {
     "data": {
      "text/plain": [
       "'Apa menariknya agama Buku rujukan tapi sok tau Tak ada hal baru Tak ada mantra penemuan terbaru yang lebih mustajab untuk mengatasi masalah Rumusan mantranya tetap kuno Mantra yang namanya sapu jagat apa bermanfaat saat Covid Bila ada yang marah pasti penganutnya'"
      ]
     },
     "execution_count": 19,
     "metadata": {},
     "output_type": "execute_result"
    }
   ],
   "source": [
    "snorkel_data_20['tweet'].iloc[2990]"
   ]
  },
  {
   "cell_type": "code",
   "execution_count": 5,
   "id": "7c992a38",
   "metadata": {},
   "outputs": [
    {
     "data": {
      "text/plain": [
       "0    1183\n",
       "4     675\n",
       "1     543\n",
       "3     479\n",
       "2     420\n",
       "Name: label, dtype: int64"
      ]
     },
     "execution_count": 5,
     "metadata": {},
     "output_type": "execute_result"
    }
   ],
   "source": [
    "snorkel_data_20['label'].value_counts()"
   ]
  },
  {
   "cell_type": "code",
   "execution_count": 6,
   "id": "4af007f5",
   "metadata": {},
   "outputs": [],
   "source": [
    "gb_num_words=1000\n",
    "gb_output_dim=50\n",
    "gb_epochs=30\n",
    "gb_n_hidden_layers=25\n",
    "gb_trainable=False\n",
    "gd_dense = 5\n",
    "gb_test_size=0.2"
   ]
  },
  {
   "cell_type": "code",
   "execution_count": 7,
   "id": "00ab359a",
   "metadata": {},
   "outputs": [],
   "source": [
    "con=open(\"D:\\Downloads\\glove_50dim_wiki.id.case.text.txt\",encoding='utf-8')"
   ]
  },
  {
   "cell_type": "code",
   "execution_count": 8,
   "id": "0b320765",
   "metadata": {},
   "outputs": [],
   "source": [
    "index={}\n",
    "for words in con:\n",
    "    values=words.split()\n",
    "    word=values[0]\n",
    "    vect=np.asarray(values[1:],dtype='float32')\n",
    "    index[word]=vect"
   ]
  },
  {
   "cell_type": "code",
   "execution_count": 61,
   "id": "fa780b7c",
   "metadata": {},
   "outputs": [],
   "source": [
    "x=snorkel_data_20['tweet']\n",
    "y=snorkel_data_20['label']\n",
    "x_train,x_test,y_train,y_test=train_test_split(x,y,test_size=gb_test_size,random_state=100)\n"
   ]
  },
  {
   "cell_type": "code",
   "execution_count": 10,
   "id": "d6f40b81",
   "metadata": {},
   "outputs": [
    {
     "data": {
      "text/html": [
       "<div>\n",
       "<style scoped>\n",
       "    .dataframe tbody tr th:only-of-type {\n",
       "        vertical-align: middle;\n",
       "    }\n",
       "\n",
       "    .dataframe tbody tr th {\n",
       "        vertical-align: top;\n",
       "    }\n",
       "\n",
       "    .dataframe thead th {\n",
       "        text-align: right;\n",
       "    }\n",
       "</style>\n",
       "<table border=\"1\" class=\"dataframe\">\n",
       "  <thead>\n",
       "    <tr style=\"text-align: right;\">\n",
       "      <th></th>\n",
       "      <th>label</th>\n",
       "      <th>tweet</th>\n",
       "    </tr>\n",
       "  </thead>\n",
       "  <tbody>\n",
       "    <tr>\n",
       "      <th>0</th>\n",
       "      <td>1</td>\n",
       "      <td>Soal jln Jatibaru,polisi tdk bs GERTAK gubernu...</td>\n",
       "    </tr>\n",
       "    <tr>\n",
       "      <th>1</th>\n",
       "      <td>1</td>\n",
       "      <td>Sesama cewe lho (kayaknya), harusnya bisa lebi...</td>\n",
       "    </tr>\n",
       "    <tr>\n",
       "      <th>2</th>\n",
       "      <td>0</td>\n",
       "      <td>Kepingin gudeg mbarek Bu hj. Amad Foto dari go...</td>\n",
       "    </tr>\n",
       "    <tr>\n",
       "      <th>3</th>\n",
       "      <td>1</td>\n",
       "      <td>Jln Jatibaru,bagian dari wilayah Tn Abang.Peng...</td>\n",
       "    </tr>\n",
       "    <tr>\n",
       "      <th>4</th>\n",
       "      <td>0</td>\n",
       "      <td>Sharing pengalaman aja, kemarin jam 18.00 bata...</td>\n",
       "    </tr>\n",
       "    <tr>\n",
       "      <th>...</th>\n",
       "      <td>...</td>\n",
       "      <td>...</td>\n",
       "    </tr>\n",
       "    <tr>\n",
       "      <th>4396</th>\n",
       "      <td>4</td>\n",
       "      <td>Tahukah kamu, bahwa saat itu papa memejamkan m...</td>\n",
       "    </tr>\n",
       "    <tr>\n",
       "      <th>4397</th>\n",
       "      <td>3</td>\n",
       "      <td>Sulitnya menetapkan Calon Wapresnya Jokowi di ...</td>\n",
       "    </tr>\n",
       "    <tr>\n",
       "      <th>4398</th>\n",
       "      <td>1</td>\n",
       "      <td>5. masa depannya nggak jelas. lha iya, gimana ...</td>\n",
       "    </tr>\n",
       "    <tr>\n",
       "      <th>4399</th>\n",
       "      <td>0</td>\n",
       "      <td>[USERNAME] dulu beneran ada mahasiswa Teknik U...</td>\n",
       "    </tr>\n",
       "    <tr>\n",
       "      <th>4400</th>\n",
       "      <td>2</td>\n",
       "      <td>Ya Allah, hanya Engkau yang mengetahui rasa sa...</td>\n",
       "    </tr>\n",
       "  </tbody>\n",
       "</table>\n",
       "<p>4401 rows × 2 columns</p>\n",
       "</div>"
      ],
      "text/plain": [
       "      label                                              tweet\n",
       "0         1  Soal jln Jatibaru,polisi tdk bs GERTAK gubernu...\n",
       "1         1  Sesama cewe lho (kayaknya), harusnya bisa lebi...\n",
       "2         0  Kepingin gudeg mbarek Bu hj. Amad Foto dari go...\n",
       "3         1  Jln Jatibaru,bagian dari wilayah Tn Abang.Peng...\n",
       "4         0  Sharing pengalaman aja, kemarin jam 18.00 bata...\n",
       "...     ...                                                ...\n",
       "4396      4  Tahukah kamu, bahwa saat itu papa memejamkan m...\n",
       "4397      3  Sulitnya menetapkan Calon Wapresnya Jokowi di ...\n",
       "4398      1  5. masa depannya nggak jelas. lha iya, gimana ...\n",
       "4399      0  [USERNAME] dulu beneran ada mahasiswa Teknik U...\n",
       "4400      2  Ya Allah, hanya Engkau yang mengetahui rasa sa...\n",
       "\n",
       "[4401 rows x 2 columns]"
      ]
     },
     "execution_count": 10,
     "metadata": {},
     "output_type": "execute_result"
    }
   ],
   "source": [
    "data_labelled['label'] = data_labelled['label'].replace(['happy', 'anger', 'sadness', 'fear', 'love'],[0, 1, 2, 3, 4]  )\n",
    "data_labelled"
   ]
  },
  {
   "cell_type": "code",
   "execution_count": 314,
   "id": "53cfd725",
   "metadata": {},
   "outputs": [
    {
     "data": {
      "text/html": [
       "<div>\n",
       "<style scoped>\n",
       "    .dataframe tbody tr th:only-of-type {\n",
       "        vertical-align: middle;\n",
       "    }\n",
       "\n",
       "    .dataframe tbody tr th {\n",
       "        vertical-align: top;\n",
       "    }\n",
       "\n",
       "    .dataframe thead th {\n",
       "        text-align: right;\n",
       "    }\n",
       "</style>\n",
       "<table border=\"1\" class=\"dataframe\">\n",
       "  <thead>\n",
       "    <tr style=\"text-align: right;\">\n",
       "      <th></th>\n",
       "      <th>label</th>\n",
       "      <th>tweet</th>\n",
       "    </tr>\n",
       "  </thead>\n",
       "  <tbody>\n",
       "    <tr>\n",
       "      <th>0</th>\n",
       "      <td>1</td>\n",
       "      <td>Soal jln Jatibaru,polisi tdk bs GERTAK gubernu...</td>\n",
       "    </tr>\n",
       "    <tr>\n",
       "      <th>1</th>\n",
       "      <td>1</td>\n",
       "      <td>Sesama cewe lho (kayaknya), harusnya bisa lebi...</td>\n",
       "    </tr>\n",
       "    <tr>\n",
       "      <th>2</th>\n",
       "      <td>0</td>\n",
       "      <td>Kepingin gudeg mbarek Bu hj. Amad Foto dari go...</td>\n",
       "    </tr>\n",
       "    <tr>\n",
       "      <th>3</th>\n",
       "      <td>1</td>\n",
       "      <td>Jln Jatibaru,bagian dari wilayah Tn Abang.Peng...</td>\n",
       "    </tr>\n",
       "    <tr>\n",
       "      <th>4</th>\n",
       "      <td>0</td>\n",
       "      <td>Sharing pengalaman aja, kemarin jam 18.00 bata...</td>\n",
       "    </tr>\n",
       "    <tr>\n",
       "      <th>...</th>\n",
       "      <td>...</td>\n",
       "      <td>...</td>\n",
       "    </tr>\n",
       "    <tr>\n",
       "      <th>7696</th>\n",
       "      <td>0</td>\n",
       "      <td>Happy birthday boss</td>\n",
       "    </tr>\n",
       "    <tr>\n",
       "      <th>7697</th>\n",
       "      <td>0</td>\n",
       "      <td>Yeayy Alhamdulillah lazada pecah telor today s...</td>\n",
       "    </tr>\n",
       "    <tr>\n",
       "      <th>7698</th>\n",
       "      <td>3</td>\n",
       "      <td>kaget lebih ke takut si</td>\n",
       "    </tr>\n",
       "    <tr>\n",
       "      <th>7699</th>\n",
       "      <td>2</td>\n",
       "      <td>Astaga lupa</td>\n",
       "    </tr>\n",
       "    <tr>\n",
       "      <th>7700</th>\n",
       "      <td>0</td>\n",
       "      <td>Dengan senang hati kami informasikan Untuk jam...</td>\n",
       "    </tr>\n",
       "  </tbody>\n",
       "</table>\n",
       "<p>7701 rows × 2 columns</p>\n",
       "</div>"
      ],
      "text/plain": [
       "     label                                              tweet\n",
       "0        1  Soal jln Jatibaru,polisi tdk bs GERTAK gubernu...\n",
       "1        1  Sesama cewe lho (kayaknya), harusnya bisa lebi...\n",
       "2        0  Kepingin gudeg mbarek Bu hj. Amad Foto dari go...\n",
       "3        1  Jln Jatibaru,bagian dari wilayah Tn Abang.Peng...\n",
       "4        0  Sharing pengalaman aja, kemarin jam 18.00 bata...\n",
       "...    ...                                                ...\n",
       "7696     0                                Happy birthday boss\n",
       "7697     0  Yeayy Alhamdulillah lazada pecah telor today s...\n",
       "7698     3                            kaget lebih ke takut si\n",
       "7699     2                                        Astaga lupa\n",
       "7700     0  Dengan senang hati kami informasikan Untuk jam...\n",
       "\n",
       "[7701 rows x 2 columns]"
      ]
     },
     "execution_count": 314,
     "metadata": {},
     "output_type": "execute_result"
    }
   ],
   "source": [
    "merged_data['label'] = merged_data['label'].replace(['happy', 'anger', 'sadness', 'fear', 'love'],[0, 1, 2, 3, 4]  )\n",
    "merged_data"
   ]
  },
  {
   "cell_type": "code",
   "execution_count": 298,
   "id": "c06bf445",
   "metadata": {},
   "outputs": [
    {
     "data": {
      "text/plain": [
       "(7701, 2)"
      ]
     },
     "execution_count": 298,
     "metadata": {},
     "output_type": "execute_result"
    }
   ],
   "source": [
    "merged_data.shape"
   ]
  },
  {
   "cell_type": "code",
   "execution_count": 70,
   "id": "f1bb5986",
   "metadata": {},
   "outputs": [],
   "source": [
    "x=data_labelled['tweet']\n",
    "y=data_labelled['label']\n",
    "X_train_normal, X_test_normal, y_train_normal, y_test_normal=train_test_split(x,y,test_size=gb_test_size,random_state=100)\n"
   ]
  },
  {
   "cell_type": "code",
   "execution_count": 387,
   "id": "b7786b22",
   "metadata": {},
   "outputs": [],
   "source": [
    "merged_data_80 = merged_data.sample(frac=0.885)\n"
   ]
  },
  {
   "cell_type": "code",
   "execution_count": 388,
   "id": "aad9084c",
   "metadata": {},
   "outputs": [
    {
     "data": {
      "text/plain": [
       "1639    Terima kasih [USERNAME] Sudah memberi pelita p...\n",
       "547     Kmren cerita2 sama tmen FIK [USERNAME] yg ceri...\n",
       "2032    Hidup di jaman Naow ini kalau hanya pengen di ...\n",
       "1252    ih wowo saya pemaf kok tapi maaf saya pendenda...\n",
       "4128    asli parno bgt kebangun ada bunyi2 deket telin...\n",
       "                              ...                        \n",
       "4149    Disini tempat ternyaman,  Melihat seberapa Ind...\n",
       "1890    Abis take away beberapa menu Tulung Agung Pasa...\n",
       "350     [USERNAME] [USERNAME] .... Ini aja membuktikan...\n",
       "79      [USERNAME] [USERNAME] [USERNAME] [USERNAME] Ma...\n",
       "3927    yang, aku aja inget :\") malah kemaren siapa ya...\n",
       "Name: tweet, Length: 3520, dtype: object"
      ]
     },
     "execution_count": 388,
     "metadata": {},
     "output_type": "execute_result"
    }
   ],
   "source": [
    "X_train_normal"
   ]
  },
  {
   "cell_type": "code",
   "execution_count": 71,
   "id": "30902adf",
   "metadata": {},
   "outputs": [],
   "source": [
    "combined_X_train = pd.concat([snorkel_data_20['tweet'], X_train_normal], axis=0, ignore_index=True)\n"
   ]
  },
  {
   "cell_type": "code",
   "execution_count": 72,
   "id": "dabd5857",
   "metadata": {},
   "outputs": [],
   "source": [
    "combined_y_train = pd.concat([snorkel_data_20['label'], y_train_normal], axis=0, ignore_index=True)\n"
   ]
  },
  {
   "cell_type": "code",
   "execution_count": 15,
   "id": "bf80c073",
   "metadata": {},
   "outputs": [
    {
     "data": {
      "text/plain": [
       "(6820,)"
      ]
     },
     "execution_count": 15,
     "metadata": {},
     "output_type": "execute_result"
    }
   ],
   "source": [
    "combined_X_train.shape"
   ]
  },
  {
   "cell_type": "code",
   "execution_count": 16,
   "id": "4c4103c5",
   "metadata": {},
   "outputs": [
    {
     "data": {
      "text/plain": [
       "(6820,)"
      ]
     },
     "execution_count": 16,
     "metadata": {},
     "output_type": "execute_result"
    }
   ],
   "source": [
    "\n",
    "combined_y_train.shape"
   ]
  },
  {
   "cell_type": "code",
   "execution_count": 17,
   "id": "f407c1d6",
   "metadata": {},
   "outputs": [
    {
     "data": {
      "text/plain": [
       "(881,)"
      ]
     },
     "execution_count": 17,
     "metadata": {},
     "output_type": "execute_result"
    }
   ],
   "source": [
    "X_test_normal.shape"
   ]
  },
  {
   "cell_type": "code",
   "execution_count": 18,
   "id": "00c77bce",
   "metadata": {},
   "outputs": [
    {
     "data": {
      "text/plain": [
       "(881,)"
      ]
     },
     "execution_count": 18,
     "metadata": {},
     "output_type": "execute_result"
    }
   ],
   "source": [
    "y_test_normal.shape"
   ]
  },
  {
   "cell_type": "code",
   "execution_count": 73,
   "id": "80fa0086",
   "metadata": {},
   "outputs": [],
   "source": [
    "enc=LabelEncoder()\n",
    "tokens=Tokenizer(num_words=gb_num_words)"
   ]
  },
  {
   "cell_type": "code",
   "execution_count": 74,
   "id": "ed4ddfd5",
   "metadata": {},
   "outputs": [],
   "source": [
    "tokens.fit_on_texts(combined_X_train)\n",
    "combined_X_train = tokens.texts_to_sequences(combined_X_train)\n",
    "X_test_normal = tokens.texts_to_sequences(X_test_normal)"
   ]
  },
  {
   "cell_type": "code",
   "execution_count": 75,
   "id": "b4e49a46",
   "metadata": {},
   "outputs": [],
   "source": [
    "combined_y_train= enc.fit_transform(combined_y_train)\n",
    "y_test_normal= enc.transform(y_test_normal)"
   ]
  },
  {
   "cell_type": "code",
   "execution_count": 18,
   "id": "efd14056",
   "metadata": {},
   "outputs": [],
   "source": [
    "x_train = pad_sequences(x_train)\n",
    "X_test_normal = pad_sequences(X_test_normal)"
   ]
  },
  {
   "cell_type": "code",
   "execution_count": 67,
   "id": "26ba5e8c",
   "metadata": {},
   "outputs": [],
   "source": [
    "matrix=np.zeros((gb_num_words,gb_output_dim))\n",
    "for word,i in tokens.word_index.items():\n",
    "    if i<gb_num_words:\n",
    "        vect=index.get(word)\n",
    "        if vect is not None:\n",
    "            matrix[i]=vect"
   ]
  },
  {
   "cell_type": "code",
   "execution_count": 407,
   "id": "42040947",
   "metadata": {},
   "outputs": [
    {
     "data": {
      "text/plain": [
       "array([[[1, 0, 0, ..., 0, 0, 0],\n",
       "        [1, 0, 0, ..., 0, 0, 0],\n",
       "        [1, 0, 0, ..., 0, 0, 0],\n",
       "        ...,\n",
       "        [0, 0, 0, ..., 0, 0, 0],\n",
       "        [0, 0, 0, ..., 0, 0, 0],\n",
       "        [0, 0, 0, ..., 0, 0, 0]],\n",
       "\n",
       "       [[1, 0, 0, ..., 0, 0, 0],\n",
       "        [1, 0, 0, ..., 0, 0, 0],\n",
       "        [1, 0, 0, ..., 0, 0, 0],\n",
       "        ...,\n",
       "        [1, 0, 0, ..., 0, 0, 0],\n",
       "        [0, 0, 0, ..., 0, 0, 0],\n",
       "        [0, 0, 0, ..., 0, 0, 0]],\n",
       "\n",
       "       [[1, 0, 0, ..., 0, 0, 0],\n",
       "        [1, 0, 0, ..., 0, 0, 0],\n",
       "        [1, 0, 0, ..., 0, 0, 0],\n",
       "        ...,\n",
       "        [0, 0, 0, ..., 0, 0, 0],\n",
       "        [0, 0, 0, ..., 0, 0, 0],\n",
       "        [0, 0, 0, ..., 0, 0, 0]],\n",
       "\n",
       "       ...,\n",
       "\n",
       "       [[0, 0, 0, ..., 0, 0, 0],\n",
       "        [0, 0, 0, ..., 0, 0, 0],\n",
       "        [0, 0, 0, ..., 0, 0, 0],\n",
       "        ...,\n",
       "        [0, 0, 0, ..., 0, 0, 0],\n",
       "        [0, 0, 0, ..., 0, 0, 0],\n",
       "        [0, 0, 0, ..., 0, 0, 0]],\n",
       "\n",
       "       [[1, 0, 0, ..., 0, 0, 0],\n",
       "        [1, 0, 0, ..., 0, 0, 0],\n",
       "        [0, 0, 0, ..., 0, 0, 0],\n",
       "        ...,\n",
       "        [0, 1, 0, ..., 0, 0, 0],\n",
       "        [0, 0, 0, ..., 0, 0, 0],\n",
       "        [0, 0, 0, ..., 0, 0, 0]],\n",
       "\n",
       "       [[0, 0, 0, ..., 0, 0, 0],\n",
       "        [0, 0, 0, ..., 0, 0, 0],\n",
       "        [0, 0, 0, ..., 0, 0, 0],\n",
       "        ...,\n",
       "        [0, 0, 0, ..., 0, 0, 0],\n",
       "        [0, 0, 0, ..., 0, 0, 0],\n",
       "        [0, 0, 0, ..., 0, 0, 0]]])"
      ]
     },
     "execution_count": 407,
     "metadata": {},
     "output_type": "execute_result"
    }
   ],
   "source": [
    "combined_X_train"
   ]
  },
  {
   "cell_type": "code",
   "execution_count": 408,
   "id": "100207bb",
   "metadata": {},
   "outputs": [
    {
     "data": {
      "text/plain": [
       "array([[0., 0., 1., 0., 0.],\n",
       "       [1., 0., 0., 0., 0.],\n",
       "       [0., 0., 0., 0., 1.],\n",
       "       ...,\n",
       "       [0., 1., 0., 0., 0.],\n",
       "       [0., 1., 0., 0., 0.],\n",
       "       [0., 0., 0., 0., 1.]], dtype=float32)"
      ]
     },
     "execution_count": 408,
     "metadata": {},
     "output_type": "execute_result"
    }
   ],
   "source": [
    "combined_y_train\n"
   ]
  },
  {
   "cell_type": "code",
   "execution_count": 76,
   "id": "a3917076",
   "metadata": {},
   "outputs": [],
   "source": [
    "from tensorflow.keras.utils import to_categorical\n",
    "\n",
    "\n",
    "combined_y_train=to_categorical(combined_y_train)\n",
    "y_test_normal=to_categorical(y_test_normal)\n",
    "combined_X_train=pad_sequences(combined_X_train,maxlen=16)\n",
    "X_test_normal=pad_sequences(X_test_normal,maxlen=16)"
   ]
  },
  {
   "cell_type": "code",
   "execution_count": 77,
   "id": "2ac5049a",
   "metadata": {},
   "outputs": [],
   "source": [
    "from tensorflow.keras.models import Sequential\n",
    "from tensorflow.keras.layers import Dense,Dropout\n",
    "from tensorflow.keras.layers import Dense, Dropout, Embedding, SimpleRNN, LSTM\n",
    "from tensorflow.keras.preprocessing.text import Tokenizer\n",
    "from tensorflow.keras.preprocessing.sequence import pad_sequences\n",
    "from tensorflow.keras.layers import Flatten\n",
    "from sklearn.preprocessing import LabelEncoder\n",
    "\n",
    "model=Sequential()\n",
    "model.add(Embedding(input_dim=gb_num_words,output_dim=gb_output_dim,\n",
    "                    weights=[matrix],input_length=16, trainable=gb_trainable))\n",
    "model.add(LSTM(gb_n_hidden_layers))\n",
    "model.add(Dense(gd_dense,activation='softmax'))\n",
    "model.compile(loss='categorical_crossentropy',\n",
    "              optimizer='adam',metrics=['accuracy'])"
   ]
  },
  {
   "cell_type": "code",
   "execution_count": 78,
   "id": "dad9f4a6",
   "metadata": {},
   "outputs": [
    {
     "name": "stdout",
     "output_type": "stream",
     "text": [
      "Epoch 1/30\n",
      "214/214 [==============================] - 4s 10ms/step - loss: 1.4467 - accuracy: 0.3889 - val_loss: 1.4416 - val_accuracy: 0.3564\n",
      "Epoch 2/30\n",
      "214/214 [==============================] - 2s 8ms/step - loss: 1.2525 - accuracy: 0.4811 - val_loss: 1.3840 - val_accuracy: 0.4257\n",
      "Epoch 3/30\n",
      "214/214 [==============================] - 2s 8ms/step - loss: 1.1415 - accuracy: 0.5337 - val_loss: 1.3628 - val_accuracy: 0.4347\n",
      "Epoch 4/30\n",
      "214/214 [==============================] - 2s 11ms/step - loss: 1.0629 - accuracy: 0.5836 - val_loss: 1.3357 - val_accuracy: 0.4461\n",
      "Epoch 5/30\n",
      "214/214 [==============================] - 2s 9ms/step - loss: 0.9958 - accuracy: 0.6211 - val_loss: 1.3109 - val_accuracy: 0.4722\n",
      "Epoch 6/30\n",
      "214/214 [==============================] - 2s 9ms/step - loss: 0.9389 - accuracy: 0.6496 - val_loss: 1.3076 - val_accuracy: 0.4745\n",
      "Epoch 7/30\n",
      "214/214 [==============================] - 2s 8ms/step - loss: 0.8971 - accuracy: 0.6655 - val_loss: 1.2903 - val_accuracy: 0.4904\n",
      "Epoch 8/30\n",
      "214/214 [==============================] - 2s 9ms/step - loss: 0.8561 - accuracy: 0.6833 - val_loss: 1.2976 - val_accuracy: 0.4892\n",
      "Epoch 9/30\n",
      "214/214 [==============================] - 2s 9ms/step - loss: 0.8216 - accuracy: 0.7007 - val_loss: 1.2903 - val_accuracy: 0.5040\n",
      "Epoch 10/30\n",
      "214/214 [==============================] - 2s 8ms/step - loss: 0.7889 - accuracy: 0.7128 - val_loss: 1.2703 - val_accuracy: 0.5096\n",
      "Epoch 11/30\n",
      "214/214 [==============================] - 2s 9ms/step - loss: 0.7653 - accuracy: 0.7267 - val_loss: 1.2984 - val_accuracy: 0.4972\n",
      "Epoch 12/30\n",
      "214/214 [==============================] - 2s 8ms/step - loss: 0.7454 - accuracy: 0.7320 - val_loss: 1.3146 - val_accuracy: 0.4915\n",
      "Epoch 13/30\n",
      "214/214 [==============================] - 2s 9ms/step - loss: 0.7270 - accuracy: 0.7330 - val_loss: 1.2904 - val_accuracy: 0.5006\n",
      "Epoch 14/30\n",
      "214/214 [==============================] - 2s 9ms/step - loss: 0.7093 - accuracy: 0.7450 - val_loss: 1.2740 - val_accuracy: 0.5199\n",
      "Epoch 15/30\n",
      "214/214 [==============================] - 2s 9ms/step - loss: 0.6916 - accuracy: 0.7525 - val_loss: 1.2707 - val_accuracy: 0.5187\n",
      "Epoch 16/30\n",
      "214/214 [==============================] - 2s 8ms/step - loss: 0.6773 - accuracy: 0.7582 - val_loss: 1.2764 - val_accuracy: 0.5040\n",
      "Epoch 17/30\n",
      "214/214 [==============================] - 2s 8ms/step - loss: 0.6594 - accuracy: 0.7633 - val_loss: 1.2785 - val_accuracy: 0.5108\n",
      "Epoch 18/30\n",
      "214/214 [==============================] - 2s 8ms/step - loss: 0.6541 - accuracy: 0.7645 - val_loss: 1.2589 - val_accuracy: 0.5028\n",
      "Epoch 19/30\n",
      "214/214 [==============================] - 2s 8ms/step - loss: 0.6332 - accuracy: 0.7695 - val_loss: 1.2864 - val_accuracy: 0.5199\n",
      "Epoch 20/30\n",
      "214/214 [==============================] - 2s 8ms/step - loss: 0.6229 - accuracy: 0.7748 - val_loss: 1.2784 - val_accuracy: 0.5165\n",
      "Epoch 21/30\n",
      "214/214 [==============================] - 2s 7ms/step - loss: 0.6083 - accuracy: 0.7805 - val_loss: 1.2953 - val_accuracy: 0.5153\n",
      "Epoch 22/30\n",
      "214/214 [==============================] - 2s 8ms/step - loss: 0.6010 - accuracy: 0.7861 - val_loss: 1.3157 - val_accuracy: 0.5153\n",
      "Epoch 23/30\n",
      "214/214 [==============================] - 2s 8ms/step - loss: 0.5873 - accuracy: 0.7897 - val_loss: 1.3222 - val_accuracy: 0.5085\n",
      "Epoch 24/30\n",
      "214/214 [==============================] - 2s 9ms/step - loss: 0.5802 - accuracy: 0.7912 - val_loss: 1.3019 - val_accuracy: 0.5176\n",
      "Epoch 25/30\n",
      "214/214 [==============================] - 2s 9ms/step - loss: 0.5663 - accuracy: 0.7982 - val_loss: 1.3454 - val_accuracy: 0.5142\n",
      "Epoch 26/30\n",
      "214/214 [==============================] - 2s 9ms/step - loss: 0.5596 - accuracy: 0.7974 - val_loss: 1.3414 - val_accuracy: 0.5085\n",
      "Epoch 27/30\n",
      "214/214 [==============================] - 2s 8ms/step - loss: 0.5481 - accuracy: 0.8019 - val_loss: 1.3436 - val_accuracy: 0.5096\n",
      "Epoch 28/30\n",
      "214/214 [==============================] - 2s 8ms/step - loss: 0.5414 - accuracy: 0.8082 - val_loss: 1.3304 - val_accuracy: 0.5074\n",
      "Epoch 29/30\n",
      "214/214 [==============================] - 2s 9ms/step - loss: 0.5289 - accuracy: 0.8088 - val_loss: 1.3558 - val_accuracy: 0.5096\n",
      "Epoch 30/30\n",
      "214/214 [==============================] - 2s 8ms/step - loss: 0.5249 - accuracy: 0.8136 - val_loss: 1.3892 - val_accuracy: 0.4994\n"
     ]
    }
   ],
   "source": [
    "history = model.fit(combined_X_train, combined_y_train, epochs=gb_epochs, validation_data=(X_test_normal, y_test_normal), batch_size=32)"
   ]
  },
  {
   "cell_type": "code",
   "execution_count": 79,
   "id": "64ca09b2",
   "metadata": {},
   "outputs": [
    {
     "data": {
      "text/html": [
       "<div>\n",
       "<style scoped>\n",
       "    .dataframe tbody tr th:only-of-type {\n",
       "        vertical-align: middle;\n",
       "    }\n",
       "\n",
       "    .dataframe tbody tr th {\n",
       "        vertical-align: top;\n",
       "    }\n",
       "\n",
       "    .dataframe thead th {\n",
       "        text-align: right;\n",
       "    }\n",
       "</style>\n",
       "<table border=\"1\" class=\"dataframe\">\n",
       "  <thead>\n",
       "    <tr style=\"text-align: right;\">\n",
       "      <th></th>\n",
       "      <th>loss</th>\n",
       "      <th>accuracy</th>\n",
       "      <th>val_loss</th>\n",
       "      <th>val_accuracy</th>\n",
       "    </tr>\n",
       "  </thead>\n",
       "  <tbody>\n",
       "    <tr>\n",
       "      <th>0</th>\n",
       "      <td>1.446710</td>\n",
       "      <td>0.388856</td>\n",
       "      <td>1.441603</td>\n",
       "      <td>0.356413</td>\n",
       "    </tr>\n",
       "    <tr>\n",
       "      <th>1</th>\n",
       "      <td>1.252465</td>\n",
       "      <td>0.481085</td>\n",
       "      <td>1.383994</td>\n",
       "      <td>0.425653</td>\n",
       "    </tr>\n",
       "    <tr>\n",
       "      <th>2</th>\n",
       "      <td>1.141476</td>\n",
       "      <td>0.533724</td>\n",
       "      <td>1.362822</td>\n",
       "      <td>0.434733</td>\n",
       "    </tr>\n",
       "    <tr>\n",
       "      <th>3</th>\n",
       "      <td>1.062903</td>\n",
       "      <td>0.583578</td>\n",
       "      <td>1.335692</td>\n",
       "      <td>0.446084</td>\n",
       "    </tr>\n",
       "    <tr>\n",
       "      <th>4</th>\n",
       "      <td>0.995792</td>\n",
       "      <td>0.621114</td>\n",
       "      <td>1.310906</td>\n",
       "      <td>0.472191</td>\n",
       "    </tr>\n",
       "    <tr>\n",
       "      <th>5</th>\n",
       "      <td>0.938938</td>\n",
       "      <td>0.649560</td>\n",
       "      <td>1.307571</td>\n",
       "      <td>0.474461</td>\n",
       "    </tr>\n",
       "    <tr>\n",
       "      <th>6</th>\n",
       "      <td>0.897146</td>\n",
       "      <td>0.665543</td>\n",
       "      <td>1.290312</td>\n",
       "      <td>0.490352</td>\n",
       "    </tr>\n",
       "    <tr>\n",
       "      <th>7</th>\n",
       "      <td>0.856128</td>\n",
       "      <td>0.683284</td>\n",
       "      <td>1.297633</td>\n",
       "      <td>0.489217</td>\n",
       "    </tr>\n",
       "    <tr>\n",
       "      <th>8</th>\n",
       "      <td>0.821554</td>\n",
       "      <td>0.700733</td>\n",
       "      <td>1.290316</td>\n",
       "      <td>0.503973</td>\n",
       "    </tr>\n",
       "    <tr>\n",
       "      <th>9</th>\n",
       "      <td>0.788855</td>\n",
       "      <td>0.712757</td>\n",
       "      <td>1.270278</td>\n",
       "      <td>0.509648</td>\n",
       "    </tr>\n",
       "    <tr>\n",
       "      <th>10</th>\n",
       "      <td>0.765340</td>\n",
       "      <td>0.726686</td>\n",
       "      <td>1.298392</td>\n",
       "      <td>0.497162</td>\n",
       "    </tr>\n",
       "    <tr>\n",
       "      <th>11</th>\n",
       "      <td>0.745353</td>\n",
       "      <td>0.731965</td>\n",
       "      <td>1.314630</td>\n",
       "      <td>0.491487</td>\n",
       "    </tr>\n",
       "    <tr>\n",
       "      <th>12</th>\n",
       "      <td>0.727038</td>\n",
       "      <td>0.732991</td>\n",
       "      <td>1.290358</td>\n",
       "      <td>0.500568</td>\n",
       "    </tr>\n",
       "    <tr>\n",
       "      <th>13</th>\n",
       "      <td>0.709324</td>\n",
       "      <td>0.745015</td>\n",
       "      <td>1.274014</td>\n",
       "      <td>0.519864</td>\n",
       "    </tr>\n",
       "    <tr>\n",
       "      <th>14</th>\n",
       "      <td>0.691590</td>\n",
       "      <td>0.752493</td>\n",
       "      <td>1.270742</td>\n",
       "      <td>0.518729</td>\n",
       "    </tr>\n",
       "    <tr>\n",
       "      <th>15</th>\n",
       "      <td>0.677323</td>\n",
       "      <td>0.758211</td>\n",
       "      <td>1.276353</td>\n",
       "      <td>0.503973</td>\n",
       "    </tr>\n",
       "    <tr>\n",
       "      <th>16</th>\n",
       "      <td>0.659447</td>\n",
       "      <td>0.763343</td>\n",
       "      <td>1.278511</td>\n",
       "      <td>0.510783</td>\n",
       "    </tr>\n",
       "    <tr>\n",
       "      <th>17</th>\n",
       "      <td>0.654132</td>\n",
       "      <td>0.764516</td>\n",
       "      <td>1.258922</td>\n",
       "      <td>0.502838</td>\n",
       "    </tr>\n",
       "    <tr>\n",
       "      <th>18</th>\n",
       "      <td>0.633157</td>\n",
       "      <td>0.769501</td>\n",
       "      <td>1.286402</td>\n",
       "      <td>0.519864</td>\n",
       "    </tr>\n",
       "    <tr>\n",
       "      <th>19</th>\n",
       "      <td>0.622906</td>\n",
       "      <td>0.774780</td>\n",
       "      <td>1.278429</td>\n",
       "      <td>0.516459</td>\n",
       "    </tr>\n",
       "    <tr>\n",
       "      <th>20</th>\n",
       "      <td>0.608296</td>\n",
       "      <td>0.780499</td>\n",
       "      <td>1.295338</td>\n",
       "      <td>0.515324</td>\n",
       "    </tr>\n",
       "    <tr>\n",
       "      <th>21</th>\n",
       "      <td>0.601044</td>\n",
       "      <td>0.786070</td>\n",
       "      <td>1.315735</td>\n",
       "      <td>0.515324</td>\n",
       "    </tr>\n",
       "    <tr>\n",
       "      <th>22</th>\n",
       "      <td>0.587271</td>\n",
       "      <td>0.789736</td>\n",
       "      <td>1.322232</td>\n",
       "      <td>0.508513</td>\n",
       "    </tr>\n",
       "    <tr>\n",
       "      <th>23</th>\n",
       "      <td>0.580175</td>\n",
       "      <td>0.791202</td>\n",
       "      <td>1.301896</td>\n",
       "      <td>0.517594</td>\n",
       "    </tr>\n",
       "    <tr>\n",
       "      <th>24</th>\n",
       "      <td>0.566262</td>\n",
       "      <td>0.798240</td>\n",
       "      <td>1.345447</td>\n",
       "      <td>0.514188</td>\n",
       "    </tr>\n",
       "    <tr>\n",
       "      <th>25</th>\n",
       "      <td>0.559627</td>\n",
       "      <td>0.797361</td>\n",
       "      <td>1.341362</td>\n",
       "      <td>0.508513</td>\n",
       "    </tr>\n",
       "    <tr>\n",
       "      <th>26</th>\n",
       "      <td>0.548075</td>\n",
       "      <td>0.801906</td>\n",
       "      <td>1.343586</td>\n",
       "      <td>0.509648</td>\n",
       "    </tr>\n",
       "    <tr>\n",
       "      <th>27</th>\n",
       "      <td>0.541350</td>\n",
       "      <td>0.808211</td>\n",
       "      <td>1.330401</td>\n",
       "      <td>0.507378</td>\n",
       "    </tr>\n",
       "    <tr>\n",
       "      <th>28</th>\n",
       "      <td>0.528875</td>\n",
       "      <td>0.808798</td>\n",
       "      <td>1.355813</td>\n",
       "      <td>0.509648</td>\n",
       "    </tr>\n",
       "    <tr>\n",
       "      <th>29</th>\n",
       "      <td>0.524948</td>\n",
       "      <td>0.813636</td>\n",
       "      <td>1.389240</td>\n",
       "      <td>0.499432</td>\n",
       "    </tr>\n",
       "  </tbody>\n",
       "</table>\n",
       "</div>"
      ],
      "text/plain": [
       "        loss  accuracy  val_loss  val_accuracy\n",
       "0   1.446710  0.388856  1.441603      0.356413\n",
       "1   1.252465  0.481085  1.383994      0.425653\n",
       "2   1.141476  0.533724  1.362822      0.434733\n",
       "3   1.062903  0.583578  1.335692      0.446084\n",
       "4   0.995792  0.621114  1.310906      0.472191\n",
       "5   0.938938  0.649560  1.307571      0.474461\n",
       "6   0.897146  0.665543  1.290312      0.490352\n",
       "7   0.856128  0.683284  1.297633      0.489217\n",
       "8   0.821554  0.700733  1.290316      0.503973\n",
       "9   0.788855  0.712757  1.270278      0.509648\n",
       "10  0.765340  0.726686  1.298392      0.497162\n",
       "11  0.745353  0.731965  1.314630      0.491487\n",
       "12  0.727038  0.732991  1.290358      0.500568\n",
       "13  0.709324  0.745015  1.274014      0.519864\n",
       "14  0.691590  0.752493  1.270742      0.518729\n",
       "15  0.677323  0.758211  1.276353      0.503973\n",
       "16  0.659447  0.763343  1.278511      0.510783\n",
       "17  0.654132  0.764516  1.258922      0.502838\n",
       "18  0.633157  0.769501  1.286402      0.519864\n",
       "19  0.622906  0.774780  1.278429      0.516459\n",
       "20  0.608296  0.780499  1.295338      0.515324\n",
       "21  0.601044  0.786070  1.315735      0.515324\n",
       "22  0.587271  0.789736  1.322232      0.508513\n",
       "23  0.580175  0.791202  1.301896      0.517594\n",
       "24  0.566262  0.798240  1.345447      0.514188\n",
       "25  0.559627  0.797361  1.341362      0.508513\n",
       "26  0.548075  0.801906  1.343586      0.509648\n",
       "27  0.541350  0.808211  1.330401      0.507378\n",
       "28  0.528875  0.808798  1.355813      0.509648\n",
       "29  0.524948  0.813636  1.389240      0.499432"
      ]
     },
     "execution_count": 79,
     "metadata": {},
     "output_type": "execute_result"
    }
   ],
   "source": [
    "results_lstm_1=pd.DataFrame(model.history.history)\n",
    "results_lstm_1"
   ]
  },
  {
   "cell_type": "code",
   "execution_count": 80,
   "id": "d2499d7b",
   "metadata": {},
   "outputs": [
    {
     "data": {
      "image/png": "[encoded data removed]",
      "text/plain": [
       "<Figure size 640x480 with 1 Axes>"
      ]
     },
     "metadata": {},
     "output_type": "display_data"
    }
   ],
   "source": [
    "import matplotlib.pyplot as plt\n",
    "\n",
    "plt.plot(history.history['accuracy'])\n",
    "plt.plot(history.history['val_accuracy'])\n",
    "plt.title('Model Accuracy')\n",
    "plt.ylabel('Accuracy')\n",
    "plt.xlabel('Epoch')\n",
    "plt.legend(['Train', 'Test'], loc='upper left')\n",
    "plt.show()"
   ]
  },
  {
   "cell_type": "code",
   "execution_count": 81,
   "id": "88725ee5",
   "metadata": {
    "scrolled": true
   },
   "outputs": [
    {
     "data": {
      "image/png": "[encoded data removed]",
      "text/plain": [
       "<Figure size 640x480 with 1 Axes>"
      ]
     },
     "metadata": {},
     "output_type": "display_data"
    }
   ],
   "source": [
    "plt.plot(history.history['loss'])\n",
    "plt.plot(history.history['val_loss'])\n",
    "plt.title('Model Loss')\n",
    "plt.ylabel('Loss')\n",
    "plt.xlabel('Epoch')\n",
    "plt.legend(['Train', 'Test'], loc='upper left')\n",
    "plt.show()"
   ]
  }
 ],
 "metadata": {
  "kernelspec": {
   "display_name": "Python 3 (ipykernel)",
   "language": "python",
   "name": "python3"
  },
  "language_info": {
   "codemirror_mode": {
    "name": "ipython",
    "version": 3
   },
   "file_extension": ".py",
   "mimetype": "text/x-python",
   "name": "python",
   "nbconvert_exporter": "python",
   "pygments_lexer": "ipython3",
   "version": "3.10.8"
  }
 },
 "nbformat": 4,
 "nbformat_minor": 5
}
