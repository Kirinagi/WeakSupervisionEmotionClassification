{
 "cells": [
  {
   "cell_type": "code",
   "execution_count": 2,
   "id": "8001ef74",
   "metadata": {},
   "outputs": [
    {
     "ename": "ModuleNotFoundError",
     "evalue": "No module named 'spacy'",
     "output_type": "error",
     "traceback": [
      "\u001b[1;31m---------------------------------------------------------------------------\u001b[0m",
      "\u001b[1;31mModuleNotFoundError\u001b[0m                       Traceback (most recent call last)",
      "Cell \u001b[1;32mIn[2], line 2\u001b[0m\n\u001b[0;32m      1\u001b[0m \u001b[39mimport\u001b[39;00m \u001b[39mtarfile\u001b[39;00m\n\u001b[1;32m----> 2\u001b[0m \u001b[39mimport\u001b[39;00m \u001b[39mspacy\u001b[39;00m\n\u001b[0;32m      3\u001b[0m \u001b[39mimport\u001b[39;00m \u001b[39mre\u001b[39;00m\n\u001b[0;32m      4\u001b[0m \u001b[39mimport\u001b[39;00m \u001b[39msnorkel\u001b[39;00m\n",
      "\u001b[1;31mModuleNotFoundError\u001b[0m: No module named 'spacy'"
     ]
    }
   ],
   "source": [
    "import tarfile\n",
    "import spacy\n",
    "import re\n",
    "import snorkel\n",
    "import pandas as pd\n",
    "import rubrix as rb\n",
    "import numpy as np\n",
    "import json\n",
    "import sklearn\n",
    "from Sastrawi.StopWordRemover.StopWordRemoverFactory import StopWordRemoverFactory\n",
    "from Sastrawi.Stemmer.StemmerFactory import StemmerFactory\n",
    "from flashtext import KeywordProcessor"
   ]
  },
  {
   "cell_type": "code",
   "execution_count": 39,
   "id": "219e2d87",
   "metadata": {},
   "outputs": [],
   "source": [
    "data_scraped2 = pd.read_csv('D:\\Downloads\\Clean_data_Twitter_Emotion_Scraped_v5.csv')"
   ]
  },
  {
   "cell_type": "code",
   "execution_count": 2,
   "id": "b7703e4b",
   "metadata": {
    "scrolled": true
   },
   "outputs": [
    {
     "name": "stderr",
     "output_type": "stream",
     "text": [
      "C:\\Users\\pradi\\AppData\\Local\\Temp\\ipykernel_37520\\3795501739.py:3: DtypeWarning: Columns (9,22,24) have mixed types. Specify dtype option on import or set low_memory=False.\n",
      "  data_scraped = pd.read_csv(\"D:\\Downloads\\Twitter_Data_Emotion_Scraped.csv\")\n"
     ]
    },
    {
     "data": {
      "text/html": [
       "<div>\n",
       "<style scoped>\n",
       "    .dataframe tbody tr th:only-of-type {\n",
       "        vertical-align: middle;\n",
       "    }\n",
       "\n",
       "    .dataframe tbody tr th {\n",
       "        vertical-align: top;\n",
       "    }\n",
       "\n",
       "    .dataframe thead th {\n",
       "        text-align: right;\n",
       "    }\n",
       "</style>\n",
       "<table border=\"1\" class=\"dataframe\">\n",
       "  <thead>\n",
       "    <tr style=\"text-align: right;\">\n",
       "      <th></th>\n",
       "      <th>tweet</th>\n",
       "    </tr>\n",
       "  </thead>\n",
       "  <tbody>\n",
       "    <tr>\n",
       "      <th>0</th>\n",
       "      <td>Soal jln Jatibaru,polisi tdk bs GERTAK gubernu...</td>\n",
       "    </tr>\n",
       "    <tr>\n",
       "      <th>1</th>\n",
       "      <td>Sesama cewe lho (kayaknya), harusnya bisa lebi...</td>\n",
       "    </tr>\n",
       "    <tr>\n",
       "      <th>2</th>\n",
       "      <td>Kepingin gudeg mbarek Bu hj. Amad Foto dari go...</td>\n",
       "    </tr>\n",
       "    <tr>\n",
       "      <th>3</th>\n",
       "      <td>Jln Jatibaru,bagian dari wilayah Tn Abang.Peng...</td>\n",
       "    </tr>\n",
       "    <tr>\n",
       "      <th>4</th>\n",
       "      <td>Sharing pengalaman aja, kemarin jam 18.00 bata...</td>\n",
       "    </tr>\n",
       "    <tr>\n",
       "      <th>...</th>\n",
       "      <td>...</td>\n",
       "    </tr>\n",
       "    <tr>\n",
       "      <th>95</th>\n",
       "      <td>Mudah2an sudah terupload smua sebelum z mudik ...</td>\n",
       "    </tr>\n",
       "    <tr>\n",
       "      <th>96</th>\n",
       "      <td>Orang pendukung khilafah memang harus di black...</td>\n",
       "    </tr>\n",
       "    <tr>\n",
       "      <th>97</th>\n",
       "      <td>jangan sok akrab ye mention mention gue , mali...</td>\n",
       "    </tr>\n",
       "    <tr>\n",
       "      <th>98</th>\n",
       "      <td>Alhamdulillah Prof, setelah berbicara semalam ...</td>\n",
       "    </tr>\n",
       "    <tr>\n",
       "      <th>99</th>\n",
       "      <td>Keren!! Kira-kira masih ada nggak yg bilang Pa...</td>\n",
       "    </tr>\n",
       "  </tbody>\n",
       "</table>\n",
       "<p>100 rows × 1 columns</p>\n",
       "</div>"
      ],
      "text/plain": [
       "                                                tweet\n",
       "0   Soal jln Jatibaru,polisi tdk bs GERTAK gubernu...\n",
       "1   Sesama cewe lho (kayaknya), harusnya bisa lebi...\n",
       "2   Kepingin gudeg mbarek Bu hj. Amad Foto dari go...\n",
       "3   Jln Jatibaru,bagian dari wilayah Tn Abang.Peng...\n",
       "4   Sharing pengalaman aja, kemarin jam 18.00 bata...\n",
       "..                                                ...\n",
       "95  Mudah2an sudah terupload smua sebelum z mudik ...\n",
       "96  Orang pendukung khilafah memang harus di black...\n",
       "97  jangan sok akrab ye mention mention gue , mali...\n",
       "98  Alhamdulillah Prof, setelah berbicara semalam ...\n",
       "99  Keren!! Kira-kira masih ada nggak yg bilang Pa...\n",
       "\n",
       "[100 rows x 1 columns]"
      ]
     },
     "execution_count": 2,
     "metadata": {},
     "output_type": "execute_result"
    }
   ],
   "source": [
    "data = pd.read_csv(\"D:\\Downloads\\Twitter_Emotion_Dataset_without_label.csv\")\n",
    "data_labelled = pd.read_csv(\"D:\\Downloads\\Twitter_Emotion_Dataset_with_label.csv\")\n",
    "data_scraped = pd.read_csv(\"D:\\Downloads\\Twitter_Data_Emotion_Scraped.csv\")\n",
    "dictionary = pd.read_csv(\"D:\\Downloads\\colloquial-indonesian-lexicon.csv\")\n",
    "data.head(100)"
   ]
  },
  {
   "cell_type": "code",
   "execution_count": 14,
   "id": "22772e7f",
   "metadata": {},
   "outputs": [
    {
     "data": {
      "text/plain": [
       "4401"
      ]
     },
     "execution_count": 14,
     "metadata": {},
     "output_type": "execute_result"
    }
   ],
   "source": [
    "data_labelled['label'].count()\n"
   ]
  },
  {
   "cell_type": "code",
   "execution_count": 9,
   "id": "16c03030",
   "metadata": {},
   "outputs": [],
   "source": [
    "data_labelled['label'] = data_labelled['label'].replace(['happy', 'anger', 'sadness', 'fear', 'love'], [0, 1, 2, 3, 4])\n"
   ]
  },
  {
   "cell_type": "code",
   "execution_count": 1,
   "id": "c0b4211e",
   "metadata": {},
   "outputs": [
    {
     "ename": "NameError",
     "evalue": "name 'data_labelled' is not defined",
     "output_type": "error",
     "traceback": [
      "\u001b[1;31m---------------------------------------------------------------------------\u001b[0m",
      "\u001b[1;31mNameError\u001b[0m                                 Traceback (most recent call last)",
      "\u001b[1;32mc:\\Users\\pradi\\emotion classification thesis.ipynb Cell 21\u001b[0m in \u001b[0;36m1\n\u001b[1;32m----> <a href='vscode-notebook-cell:/c%3A/Users/pradi/emotion%20classification%20thesis.ipynb#X26sZmlsZQ%3D%3D?line=0'>1</a>\u001b[0m data_labelled \u001b[39m=\u001b[39m data_labelled\u001b[39m.\u001b[39mrename(columns\u001b[39m=\u001b[39m{\u001b[39m\"\u001b[39m\u001b[39mtweet\u001b[39m\u001b[39m\"\u001b[39m: \u001b[39m\"\u001b[39m\u001b[39mtext\u001b[39m\u001b[39m\"\u001b[39m})\n\u001b[0;32m      <a href='vscode-notebook-cell:/c%3A/Users/pradi/emotion%20classification%20thesis.ipynb#X26sZmlsZQ%3D%3D?line=1'>2</a>\u001b[0m data_labelled_rb \u001b[39m=\u001b[39m rb\u001b[39m.\u001b[39mread_pandas(data_labelled, task\u001b[39m=\u001b[39m\u001b[39m\"\u001b[39m\u001b[39mTextClassification\u001b[39m\u001b[39m\"\u001b[39m)\n",
      "\u001b[1;31mNameError\u001b[0m: name 'data_labelled' is not defined"
     ]
    }
   ],
   "source": [
    "data_labelled = data_labelled.rename(columns={\"tweet\": \"text\"})\n",
    "data_labelled_rb = rb.read_pandas(data_labelled, task=\"TextClassification\")\n"
   ]
  },
  {
   "cell_type": "code",
   "execution_count": 11,
   "id": "9de4dc47",
   "metadata": {},
   "outputs": [
    {
     "name": "stderr",
     "output_type": "stream",
     "text": [
      "2023-04-11 03:00:47.699 | WARNING  | rubrix.client.datasets:from_pandas:341 - Following columns are not supported by the TextClassificationRecord model and are ignored: ['tweet']\n"
     ]
    }
   ],
   "source": [
    "data_scraped2 = data.rename(columns={\"tweet\": \"text\"})\n",
    "data_scraped2_rb = rb.read_pandas(data, task=\"TextClassification\")"
   ]
  },
  {
   "cell_type": "code",
   "execution_count": 29,
   "id": "92ef50d0",
   "metadata": {},
   "outputs": [],
   "source": [
    "data_scraped = data_scraped.rename(columns={\"tweet\": \"text\"})\n",
    "data_scraped_rb = rb.read_pandas(data_scraped, task=\"TextClassification\")"
   ]
  },
  {
   "cell_type": "code",
   "execution_count": 38,
   "id": "57f0d2ec",
   "metadata": {},
   "outputs": [
    {
     "name": "stdout",
     "output_type": "stream",
     "text": [
      "Number of training examples: 3521\n",
      "Number of testing examples: 880\n"
     ]
    }
   ],
   "source": [
    "training_data = data_labelled.sample(frac=0.8, random_state=42)\n",
    "testing_data = data_labelled.drop(training_data.index)\n",
    "\n",
    "print(f\"Number of training examples: {training_data.shape[0]}\")\n",
    "print(f\"Number of testing examples: {testing_data.shape[0]}\")"
   ]
  },
  {
   "cell_type": "code",
   "execution_count": 14,
   "id": "87c45d43",
   "metadata": {},
   "outputs": [],
   "source": [
    "data_scraped2 = data_scraped2.drop(columns=['Unnamed: 0'])"
   ]
  },
  {
   "cell_type": "code",
   "execution_count": 18,
   "id": "cdd52b45",
   "metadata": {},
   "outputs": [
    {
     "data": {
      "text/html": [
       "<div>\n",
       "<style scoped>\n",
       "    .dataframe tbody tr th:only-of-type {\n",
       "        vertical-align: middle;\n",
       "    }\n",
       "\n",
       "    .dataframe tbody tr th {\n",
       "        vertical-align: top;\n",
       "    }\n",
       "\n",
       "    .dataframe thead th {\n",
       "        text-align: right;\n",
       "    }\n",
       "</style>\n",
       "<table border=\"1\" class=\"dataframe\">\n",
       "  <thead>\n",
       "    <tr style=\"text-align: right;\">\n",
       "      <th></th>\n",
       "      <th>tweet</th>\n",
       "    </tr>\n",
       "  </thead>\n",
       "  <tbody>\n",
       "    <tr>\n",
       "      <th>0</th>\n",
       "      <td>Sekarang udah ada union tapiiiiiiiii</td>\n",
       "    </tr>\n",
       "    <tr>\n",
       "      <th>1</th>\n",
       "      <td>people followed me and one person unfollowed m...</td>\n",
       "    </tr>\n",
       "    <tr>\n",
       "      <th>2</th>\n",
       "      <td>Sore yopp</td>\n",
       "    </tr>\n",
       "    <tr>\n",
       "      <th>3</th>\n",
       "      <td>Laper yaa mas Wkwwk</td>\n",
       "    </tr>\n",
       "    <tr>\n",
       "      <th>4</th>\n",
       "      <td>Oooh can wait</td>\n",
       "    </tr>\n",
       "    <tr>\n",
       "      <th>...</th>\n",
       "      <td>...</td>\n",
       "    </tr>\n",
       "    <tr>\n",
       "      <th>78215</th>\n",
       "      <td>Emang udah paling bener gausah cerita apa sm s...</td>\n",
       "    </tr>\n",
       "    <tr>\n",
       "      <th>78216</th>\n",
       "      <td>Merosotin cuy</td>\n",
       "    </tr>\n",
       "    <tr>\n",
       "      <th>78217</th>\n",
       "      <td>Lahh ternyata ada fans nya yang komen</td>\n",
       "    </tr>\n",
       "    <tr>\n",
       "      <th>78218</th>\n",
       "      <td>Employee commercial would rather QQ</td>\n",
       "    </tr>\n",
       "    <tr>\n",
       "      <th>78219</th>\n",
       "      <td>Gatau ko aku taunya Kontol Kejepit</td>\n",
       "    </tr>\n",
       "  </tbody>\n",
       "</table>\n",
       "<p>78220 rows × 1 columns</p>\n",
       "</div>"
      ],
      "text/plain": [
       "                                                   tweet\n",
       "0                   Sekarang udah ada union tapiiiiiiiii\n",
       "1      people followed me and one person unfollowed m...\n",
       "2                                              Sore yopp\n",
       "3                                    Laper yaa mas Wkwwk\n",
       "4                                          Oooh can wait\n",
       "...                                                  ...\n",
       "78215  Emang udah paling bener gausah cerita apa sm s...\n",
       "78216                                      Merosotin cuy\n",
       "78217              Lahh ternyata ada fans nya yang komen\n",
       "78218                Employee commercial would rather QQ\n",
       "78219                 Gatau ko aku taunya Kontol Kejepit\n",
       "\n",
       "[78220 rows x 1 columns]"
      ]
     },
     "execution_count": 18,
     "metadata": {},
     "output_type": "execute_result"
    }
   ],
   "source": [
    "data_scraped2\n"
   ]
  },
  {
   "cell_type": "code",
   "execution_count": 40,
   "id": "8491eff5",
   "metadata": {},
   "outputs": [
    {
     "name": "stderr",
     "output_type": "stream",
     "text": [
      "c:\\Users\\pradi\\AppData\\Local\\Programs\\Python\\Python310\\lib\\site-packages\\rubrix\\client\\models.py:43: UserWarning: Some metadata values exceed the max length. Those values will be truncated by keeping only the last 128 characters.\n",
      "  warnings.warn(\n"
     ]
    },
    {
     "data": {
      "application/vnd.jupyter.widget-view+json": {
       "model_id": "c6a769d6006a47459b24f50e4fd97984",
       "version_major": 2,
       "version_minor": 0
      },
      "text/plain": [
       "  0%|          | 0/78220 [00:00<?, ?it/s]"
      ]
     },
     "metadata": {},
     "output_type": "display_data"
    },
    {
     "name": "stdout",
     "output_type": "stream",
     "text": [
      "78220 records logged to http://localhost:6900/datasets/rubrix/emotion_twitter_v10\n"
     ]
    },
    {
     "data": {
      "text/plain": [
       "BulkResponse(dataset='emotion_twitter_v10', processed=78220, failed=0)"
      ]
     },
     "execution_count": 40,
     "metadata": {},
     "output_type": "execute_result"
    }
   ],
   "source": [
    "import rubrix as rb\n",
    "# build our training records without labels\n",
    "records = [\n",
    "    rb.TextClassificationRecord(\n",
    "        text=row.tweet,\n",
    "        metadata={\"tweet\":row.tweet},\n",
    "    )\n",
    "    for i,row in data_scraped2.iterrows()\n",
    "]\n",
    "rb.log(records, name=\"emotion_twitter_v10\")"
   ]
  },
  {
   "cell_type": "code",
   "execution_count": 41,
   "id": "b0802663",
   "metadata": {},
   "outputs": [
    {
     "data": {
      "application/vnd.jupyter.widget-view+json": {
       "model_id": "97df263974ce48e8b735321f67b280f1",
       "version_major": 2,
       "version_minor": 0
      },
      "text/plain": [
       "  0%|          | 0/880 [00:00<?, ?it/s]"
      ]
     },
     "metadata": {},
     "output_type": "display_data"
    },
    {
     "name": "stdout",
     "output_type": "stream",
     "text": [
      "880 records logged to http://localhost:6900/datasets/rubrix/emotion_twitter_v10\n"
     ]
    },
    {
     "data": {
      "text/plain": [
       "BulkResponse(dataset='emotion_twitter_v10', processed=880, failed=0)"
      ]
     },
     "execution_count": 41,
     "metadata": {},
     "output_type": "execute_result"
    }
   ],
   "source": [
    "# build our labelled records to evaluate our heuristic rules and optimize the thresholds\n",
    "labels = ['happy', 'anger', 'sadness', 'fear', 'love']\n",
    "\n",
    "records = [\n",
    "    rb.TextClassificationRecord(\n",
    "        text=row.tweet,\n",
    "        annotation=labels[row.label],\n",
    "        metadata={\"Tweet\":row.tweet},\n",
    "    )\n",
    "    for i,row in testing_data.iterrows()\n",
    "]\n",
    "\n",
    "# log the records to Rubrix\n",
    "rb.log(records, name=\"emotion_twitter_v10\")"
   ]
  },
  {
   "cell_type": "code",
   "execution_count": 49,
   "id": "2271f849",
   "metadata": {},
   "outputs": [
    {
     "data": {
      "application/vnd.jupyter.widget-view+json": {
       "model_id": "03cc82ded57341ecb13f6abb6d7ceb35",
       "version_major": 2,
       "version_minor": 0
      },
      "text/plain": [
       "Preparing rules:   0%|          | 0/27 [00:00<?, ?it/s]"
      ]
     },
     "metadata": {},
     "output_type": "display_data"
    },
    {
     "data": {
      "application/vnd.jupyter.widget-view+json": {
       "model_id": "1455d0bd2ad4422bb793a721199e388c",
       "version_major": 2,
       "version_minor": 0
      },
      "text/plain": [
       "Applying rules:   0%|          | 0/79100 [00:00<?, ?it/s]"
      ]
     },
     "metadata": {},
     "output_type": "display_data"
    }
   ],
   "source": [
    "from rubrix.labeling.text_classification import WeakLabels\n",
    "\n",
    "weak_labels = WeakLabels(dataset=\"emotion_twitter_v10\")"
   ]
  },
  {
   "cell_type": "code",
   "execution_count": 50,
   "id": "735f9a2e",
   "metadata": {},
   "outputs": [
    {
     "data": {
      "text/html": [
       "<div>\n",
       "<style scoped>\n",
       "    .dataframe tbody tr th:only-of-type {\n",
       "        vertical-align: middle;\n",
       "    }\n",
       "\n",
       "    .dataframe tbody tr th {\n",
       "        vertical-align: top;\n",
       "    }\n",
       "\n",
       "    .dataframe thead th {\n",
       "        text-align: right;\n",
       "    }\n",
       "</style>\n",
       "<table border=\"1\" class=\"dataframe\">\n",
       "  <thead>\n",
       "    <tr style=\"text-align: right;\">\n",
       "      <th></th>\n",
       "      <th>label</th>\n",
       "      <th>coverage</th>\n",
       "      <th>annotated_coverage</th>\n",
       "      <th>overlaps</th>\n",
       "      <th>conflicts</th>\n",
       "      <th>correct</th>\n",
       "      <th>incorrect</th>\n",
       "      <th>precision</th>\n",
       "    </tr>\n",
       "  </thead>\n",
       "  <tbody>\n",
       "    <tr>\n",
       "      <th>sedih</th>\n",
       "      <td>{sadness}</td>\n",
       "      <td>0.002617</td>\n",
       "      <td>0.012500</td>\n",
       "      <td>0.000544</td>\n",
       "      <td>0.000480</td>\n",
       "      <td>9</td>\n",
       "      <td>2</td>\n",
       "      <td>0.818182</td>\n",
       "    </tr>\n",
       "    <tr>\n",
       "      <th>senang</th>\n",
       "      <td>{happy}</td>\n",
       "      <td>0.002554</td>\n",
       "      <td>0.000000</td>\n",
       "      <td>0.000177</td>\n",
       "      <td>0.000139</td>\n",
       "      <td>0</td>\n",
       "      <td>0</td>\n",
       "      <td>NaN</td>\n",
       "    </tr>\n",
       "    <tr>\n",
       "      <th>seneng</th>\n",
       "      <td>{happy}</td>\n",
       "      <td>0.001871</td>\n",
       "      <td>0.006818</td>\n",
       "      <td>0.000303</td>\n",
       "      <td>0.000253</td>\n",
       "      <td>2</td>\n",
       "      <td>4</td>\n",
       "      <td>0.333333</td>\n",
       "    </tr>\n",
       "    <tr>\n",
       "      <th>marah</th>\n",
       "      <td>{anger}</td>\n",
       "      <td>0.001669</td>\n",
       "      <td>0.012500</td>\n",
       "      <td>0.000303</td>\n",
       "      <td>0.000215</td>\n",
       "      <td>8</td>\n",
       "      <td>3</td>\n",
       "      <td>0.727273</td>\n",
       "    </tr>\n",
       "    <tr>\n",
       "      <th>takut</th>\n",
       "      <td>{fear}</td>\n",
       "      <td>0.005247</td>\n",
       "      <td>0.075000</td>\n",
       "      <td>0.000430</td>\n",
       "      <td>0.000367</td>\n",
       "      <td>55</td>\n",
       "      <td>11</td>\n",
       "      <td>0.833333</td>\n",
       "    </tr>\n",
       "    <tr>\n",
       "      <th>serem</th>\n",
       "      <td>{fear}</td>\n",
       "      <td>0.001264</td>\n",
       "      <td>0.022727</td>\n",
       "      <td>0.000126</td>\n",
       "      <td>0.000088</td>\n",
       "      <td>18</td>\n",
       "      <td>2</td>\n",
       "      <td>0.900000</td>\n",
       "    </tr>\n",
       "    <tr>\n",
       "      <th>sayang</th>\n",
       "      <td>{love}</td>\n",
       "      <td>0.003805</td>\n",
       "      <td>0.097727</td>\n",
       "      <td>0.000721</td>\n",
       "      <td>0.000442</td>\n",
       "      <td>55</td>\n",
       "      <td>31</td>\n",
       "      <td>0.639535</td>\n",
       "    </tr>\n",
       "    <tr>\n",
       "      <th>cinta</th>\n",
       "      <td>{love}</td>\n",
       "      <td>0.002857</td>\n",
       "      <td>0.071591</td>\n",
       "      <td>0.000493</td>\n",
       "      <td>0.000265</td>\n",
       "      <td>48</td>\n",
       "      <td>15</td>\n",
       "      <td>0.761905</td>\n",
       "    </tr>\n",
       "    <tr>\n",
       "      <th>astagfirullah</th>\n",
       "      <td>{anger}</td>\n",
       "      <td>0.000632</td>\n",
       "      <td>0.001136</td>\n",
       "      <td>0.000051</td>\n",
       "      <td>0.000025</td>\n",
       "      <td>1</td>\n",
       "      <td>0</td>\n",
       "      <td>1.000000</td>\n",
       "    </tr>\n",
       "    <tr>\n",
       "      <th>alhamdulillah</th>\n",
       "      <td>{happy}</td>\n",
       "      <td>0.004741</td>\n",
       "      <td>0.019318</td>\n",
       "      <td>0.000253</td>\n",
       "      <td>0.000139</td>\n",
       "      <td>14</td>\n",
       "      <td>3</td>\n",
       "      <td>0.823529</td>\n",
       "    </tr>\n",
       "    <tr>\n",
       "      <th>khawatir</th>\n",
       "      <td>{fear}</td>\n",
       "      <td>0.000683</td>\n",
       "      <td>0.004545</td>\n",
       "      <td>0.000051</td>\n",
       "      <td>0.000025</td>\n",
       "      <td>3</td>\n",
       "      <td>1</td>\n",
       "      <td>0.750000</td>\n",
       "    </tr>\n",
       "    <tr>\n",
       "      <th>kasihan</th>\n",
       "      <td>{sadness}</td>\n",
       "      <td>0.000582</td>\n",
       "      <td>0.003409</td>\n",
       "      <td>0.000013</td>\n",
       "      <td>0.000000</td>\n",
       "      <td>1</td>\n",
       "      <td>2</td>\n",
       "      <td>0.333333</td>\n",
       "    </tr>\n",
       "    <tr>\n",
       "      <th>kesel</th>\n",
       "      <td>{anger}</td>\n",
       "      <td>0.001429</td>\n",
       "      <td>0.004545</td>\n",
       "      <td>0.000164</td>\n",
       "      <td>0.000088</td>\n",
       "      <td>2</td>\n",
       "      <td>2</td>\n",
       "      <td>0.500000</td>\n",
       "    </tr>\n",
       "    <tr>\n",
       "      <th>anjing</th>\n",
       "      <td>{anger}</td>\n",
       "      <td>0.001669</td>\n",
       "      <td>0.005682</td>\n",
       "      <td>0.000228</td>\n",
       "      <td>0.000177</td>\n",
       "      <td>2</td>\n",
       "      <td>3</td>\n",
       "      <td>0.400000</td>\n",
       "    </tr>\n",
       "    <tr>\n",
       "      <th>kontol</th>\n",
       "      <td>{anger}</td>\n",
       "      <td>0.000834</td>\n",
       "      <td>0.000000</td>\n",
       "      <td>0.000038</td>\n",
       "      <td>0.000000</td>\n",
       "      <td>0</td>\n",
       "      <td>0</td>\n",
       "      <td>NaN</td>\n",
       "    </tr>\n",
       "    <tr>\n",
       "      <th>love</th>\n",
       "      <td>{love}</td>\n",
       "      <td>0.003944</td>\n",
       "      <td>0.010227</td>\n",
       "      <td>0.000253</td>\n",
       "      <td>0.000139</td>\n",
       "      <td>9</td>\n",
       "      <td>0</td>\n",
       "      <td>1.000000</td>\n",
       "    </tr>\n",
       "    <tr>\n",
       "      <th>happy</th>\n",
       "      <td>{happy}</td>\n",
       "      <td>0.004640</td>\n",
       "      <td>0.013636</td>\n",
       "      <td>0.000341</td>\n",
       "      <td>0.000253</td>\n",
       "      <td>7</td>\n",
       "      <td>5</td>\n",
       "      <td>0.583333</td>\n",
       "    </tr>\n",
       "    <tr>\n",
       "      <th>sad</th>\n",
       "      <td>{sadness}</td>\n",
       "      <td>0.000594</td>\n",
       "      <td>0.000000</td>\n",
       "      <td>0.000025</td>\n",
       "      <td>0.000025</td>\n",
       "      <td>0</td>\n",
       "      <td>0</td>\n",
       "      <td>NaN</td>\n",
       "    </tr>\n",
       "    <tr>\n",
       "      <th>meninggal</th>\n",
       "      <td>{sadness}</td>\n",
       "      <td>0.000544</td>\n",
       "      <td>0.002273</td>\n",
       "      <td>0.000051</td>\n",
       "      <td>0.000051</td>\n",
       "      <td>1</td>\n",
       "      <td>1</td>\n",
       "      <td>0.500000</td>\n",
       "    </tr>\n",
       "    <tr>\n",
       "      <th>bucin</th>\n",
       "      <td>{love}</td>\n",
       "      <td>0.000367</td>\n",
       "      <td>0.001136</td>\n",
       "      <td>0.000013</td>\n",
       "      <td>0.000000</td>\n",
       "      <td>0</td>\n",
       "      <td>1</td>\n",
       "      <td>0.000000</td>\n",
       "    </tr>\n",
       "    <tr>\n",
       "      <th>bahagia</th>\n",
       "      <td>{happy}</td>\n",
       "      <td>0.001820</td>\n",
       "      <td>0.015909</td>\n",
       "      <td>0.000303</td>\n",
       "      <td>0.000215</td>\n",
       "      <td>6</td>\n",
       "      <td>8</td>\n",
       "      <td>0.428571</td>\n",
       "    </tr>\n",
       "    <tr>\n",
       "      <th>Innalillahi</th>\n",
       "      <td>{sadness}</td>\n",
       "      <td>0.000076</td>\n",
       "      <td>0.000000</td>\n",
       "      <td>0.000000</td>\n",
       "      <td>0.000000</td>\n",
       "      <td>0</td>\n",
       "      <td>0</td>\n",
       "      <td>NaN</td>\n",
       "    </tr>\n",
       "    <tr>\n",
       "      <th>astaga</th>\n",
       "      <td>{sadness}</td>\n",
       "      <td>0.000759</td>\n",
       "      <td>0.001136</td>\n",
       "      <td>0.000025</td>\n",
       "      <td>0.000025</td>\n",
       "      <td>0</td>\n",
       "      <td>1</td>\n",
       "      <td>0.000000</td>\n",
       "    </tr>\n",
       "    <tr>\n",
       "      <th>babi</th>\n",
       "      <td>{anger}</td>\n",
       "      <td>0.000961</td>\n",
       "      <td>0.001136</td>\n",
       "      <td>0.000051</td>\n",
       "      <td>0.000013</td>\n",
       "      <td>1</td>\n",
       "      <td>0</td>\n",
       "      <td>1.000000</td>\n",
       "    </tr>\n",
       "    <tr>\n",
       "      <th>ngentot</th>\n",
       "      <td>{anger}</td>\n",
       "      <td>0.000417</td>\n",
       "      <td>0.001136</td>\n",
       "      <td>0.000013</td>\n",
       "      <td>0.000000</td>\n",
       "      <td>1</td>\n",
       "      <td>0</td>\n",
       "      <td>1.000000</td>\n",
       "    </tr>\n",
       "    <tr>\n",
       "      <th>*akit hat*</th>\n",
       "      <td>{sadness}</td>\n",
       "      <td>0.000860</td>\n",
       "      <td>0.007955</td>\n",
       "      <td>0.000126</td>\n",
       "      <td>0.000076</td>\n",
       "      <td>4</td>\n",
       "      <td>3</td>\n",
       "      <td>0.571429</td>\n",
       "    </tr>\n",
       "    <tr>\n",
       "      <th>*atah hat*</th>\n",
       "      <td>{sadness}</td>\n",
       "      <td>0.000190</td>\n",
       "      <td>0.002273</td>\n",
       "      <td>0.000101</td>\n",
       "      <td>0.000076</td>\n",
       "      <td>2</td>\n",
       "      <td>0</td>\n",
       "      <td>1.000000</td>\n",
       "    </tr>\n",
       "    <tr>\n",
       "      <th>total</th>\n",
       "      <td>{love, anger, happy, fear, sadness}</td>\n",
       "      <td>0.044918</td>\n",
       "      <td>0.330682</td>\n",
       "      <td>0.002491</td>\n",
       "      <td>0.001707</td>\n",
       "      <td>249</td>\n",
       "      <td>98</td>\n",
       "      <td>0.717579</td>\n",
       "    </tr>\n",
       "  </tbody>\n",
       "</table>\n",
       "</div>"
      ],
      "text/plain": [
       "                                             label  coverage  \\\n",
       "sedih                                    {sadness}  0.002617   \n",
       "senang                                     {happy}  0.002554   \n",
       "seneng                                     {happy}  0.001871   \n",
       "marah                                      {anger}  0.001669   \n",
       "takut                                       {fear}  0.005247   \n",
       "serem                                       {fear}  0.001264   \n",
       "sayang                                      {love}  0.003805   \n",
       "cinta                                       {love}  0.002857   \n",
       "astagfirullah                              {anger}  0.000632   \n",
       "alhamdulillah                              {happy}  0.004741   \n",
       "khawatir                                    {fear}  0.000683   \n",
       "kasihan                                  {sadness}  0.000582   \n",
       "kesel                                      {anger}  0.001429   \n",
       "anjing                                     {anger}  0.001669   \n",
       "kontol                                     {anger}  0.000834   \n",
       "love                                        {love}  0.003944   \n",
       "happy                                      {happy}  0.004640   \n",
       "sad                                      {sadness}  0.000594   \n",
       "meninggal                                {sadness}  0.000544   \n",
       "bucin                                       {love}  0.000367   \n",
       "bahagia                                    {happy}  0.001820   \n",
       "Innalillahi                              {sadness}  0.000076   \n",
       "astaga                                   {sadness}  0.000759   \n",
       "babi                                       {anger}  0.000961   \n",
       "ngentot                                    {anger}  0.000417   \n",
       "*akit hat*                               {sadness}  0.000860   \n",
       "*atah hat*                               {sadness}  0.000190   \n",
       "total          {love, anger, happy, fear, sadness}  0.044918   \n",
       "\n",
       "               annotated_coverage  overlaps  conflicts  correct  incorrect  \\\n",
       "sedih                    0.012500  0.000544   0.000480        9          2   \n",
       "senang                   0.000000  0.000177   0.000139        0          0   \n",
       "seneng                   0.006818  0.000303   0.000253        2          4   \n",
       "marah                    0.012500  0.000303   0.000215        8          3   \n",
       "takut                    0.075000  0.000430   0.000367       55         11   \n",
       "serem                    0.022727  0.000126   0.000088       18          2   \n",
       "sayang                   0.097727  0.000721   0.000442       55         31   \n",
       "cinta                    0.071591  0.000493   0.000265       48         15   \n",
       "astagfirullah            0.001136  0.000051   0.000025        1          0   \n",
       "alhamdulillah            0.019318  0.000253   0.000139       14          3   \n",
       "khawatir                 0.004545  0.000051   0.000025        3          1   \n",
       "kasihan                  0.003409  0.000013   0.000000        1          2   \n",
       "kesel                    0.004545  0.000164   0.000088        2          2   \n",
       "anjing                   0.005682  0.000228   0.000177        2          3   \n",
       "kontol                   0.000000  0.000038   0.000000        0          0   \n",
       "love                     0.010227  0.000253   0.000139        9          0   \n",
       "happy                    0.013636  0.000341   0.000253        7          5   \n",
       "sad                      0.000000  0.000025   0.000025        0          0   \n",
       "meninggal                0.002273  0.000051   0.000051        1          1   \n",
       "bucin                    0.001136  0.000013   0.000000        0          1   \n",
       "bahagia                  0.015909  0.000303   0.000215        6          8   \n",
       "Innalillahi              0.000000  0.000000   0.000000        0          0   \n",
       "astaga                   0.001136  0.000025   0.000025        0          1   \n",
       "babi                     0.001136  0.000051   0.000013        1          0   \n",
       "ngentot                  0.001136  0.000013   0.000000        1          0   \n",
       "*akit hat*               0.007955  0.000126   0.000076        4          3   \n",
       "*atah hat*               0.002273  0.000101   0.000076        2          0   \n",
       "total                    0.330682  0.002491   0.001707      249         98   \n",
       "\n",
       "               precision  \n",
       "sedih           0.818182  \n",
       "senang               NaN  \n",
       "seneng          0.333333  \n",
       "marah           0.727273  \n",
       "takut           0.833333  \n",
       "serem           0.900000  \n",
       "sayang          0.639535  \n",
       "cinta           0.761905  \n",
       "astagfirullah   1.000000  \n",
       "alhamdulillah   0.823529  \n",
       "khawatir        0.750000  \n",
       "kasihan         0.333333  \n",
       "kesel           0.500000  \n",
       "anjing          0.400000  \n",
       "kontol               NaN  \n",
       "love            1.000000  \n",
       "happy           0.583333  \n",
       "sad                  NaN  \n",
       "meninggal       0.500000  \n",
       "bucin           0.000000  \n",
       "bahagia         0.428571  \n",
       "Innalillahi          NaN  \n",
       "astaga          0.000000  \n",
       "babi            1.000000  \n",
       "ngentot         1.000000  \n",
       "*akit hat*      0.571429  \n",
       "*atah hat*      1.000000  \n",
       "total           0.717579  "
      ]
     },
     "execution_count": 50,
     "metadata": {},
     "output_type": "execute_result"
    }
   ],
   "source": [
    "weak_labels.summary()"
   ]
  },
  {
   "cell_type": "code",
   "execution_count": 51,
   "id": "bdb7929f",
   "metadata": {},
   "outputs": [
    {
     "name": "stderr",
     "output_type": "stream",
     "text": [
      "100%|██████████| 10/10 [00:00<00:00, 273.26epoch/s]"
     ]
    },
    {
     "name": "stdout",
     "output_type": "stream",
     "text": [
      "              precision    recall  f1-score   support\n",
      "\n",
      "       happy       0.67      0.65      0.66        43\n",
      "       anger       0.67      0.43      0.52        28\n",
      "     sadness       0.65      0.28      0.39        39\n",
      "        fear       0.85      0.89      0.87        80\n",
      "        love       0.70      0.90      0.79       101\n",
      "\n",
      "    accuracy                           0.73       291\n",
      "   macro avg       0.71      0.63      0.65       291\n",
      "weighted avg       0.72      0.73      0.71       291\n",
      "\n"
     ]
    },
    {
     "name": "stderr",
     "output_type": "stream",
     "text": [
      "\n"
     ]
    }
   ],
   "source": [
    "from rubrix.labeling.text_classification import Snorkel\n",
    "\n",
    "label_model = Snorkel(weak_labels)\n",
    "\n",
    "label_model.fit(lr=0.002, n_epochs=10, progress_bar=True)\n",
    "print(label_model.score(output_str=True))"
   ]
  },
  {
   "cell_type": "code",
   "execution_count": 49,
   "id": "4f7896cf",
   "metadata": {},
   "outputs": [
    {
     "data": {
      "text/plain": [
       "<rubrix.labeling.text_classification.weak_labels.WeakLabels at 0x20c2ba02170>"
      ]
     },
     "execution_count": 49,
     "metadata": {},
     "output_type": "execute_result"
    }
   ],
   "source": [
    "weak_labels"
   ]
  },
  {
   "cell_type": "code",
   "execution_count": 23,
   "id": "44f225bf",
   "metadata": {},
   "outputs": [
    {
     "data": {
      "text/html": [
       "<div>\n",
       "<style scoped>\n",
       "    .dataframe tbody tr th:only-of-type {\n",
       "        vertical-align: middle;\n",
       "    }\n",
       "\n",
       "    .dataframe tbody tr th {\n",
       "        vertical-align: top;\n",
       "    }\n",
       "\n",
       "    .dataframe thead th {\n",
       "        text-align: right;\n",
       "    }\n",
       "</style>\n",
       "<table border=\"1\" class=\"dataframe\">\n",
       "  <thead>\n",
       "    <tr style=\"text-align: right;\">\n",
       "      <th></th>\n",
       "      <th>label</th>\n",
       "      <th>tweet</th>\n",
       "    </tr>\n",
       "  </thead>\n",
       "  <tbody>\n",
       "    <tr>\n",
       "      <th>0</th>\n",
       "      <td>1</td>\n",
       "      <td>Soal jln Jatibaru,polisi tdk bs GERTAK gubernu...</td>\n",
       "    </tr>\n",
       "    <tr>\n",
       "      <th>1</th>\n",
       "      <td>1</td>\n",
       "      <td>Sesama cewe lho (kayaknya), harusnya bisa lebi...</td>\n",
       "    </tr>\n",
       "    <tr>\n",
       "      <th>2</th>\n",
       "      <td>0</td>\n",
       "      <td>Kepingin gudeg mbarek Bu hj. Amad Foto dari go...</td>\n",
       "    </tr>\n",
       "    <tr>\n",
       "      <th>3</th>\n",
       "      <td>1</td>\n",
       "      <td>Jln Jatibaru,bagian dari wilayah Tn Abang.Peng...</td>\n",
       "    </tr>\n",
       "    <tr>\n",
       "      <th>4</th>\n",
       "      <td>0</td>\n",
       "      <td>Sharing pengalaman aja, kemarin jam 18.00 bata...</td>\n",
       "    </tr>\n",
       "    <tr>\n",
       "      <th>...</th>\n",
       "      <td>...</td>\n",
       "      <td>...</td>\n",
       "    </tr>\n",
       "    <tr>\n",
       "      <th>4396</th>\n",
       "      <td>4</td>\n",
       "      <td>Tahukah kamu, bahwa saat itu papa memejamkan m...</td>\n",
       "    </tr>\n",
       "    <tr>\n",
       "      <th>4397</th>\n",
       "      <td>3</td>\n",
       "      <td>Sulitnya menetapkan Calon Wapresnya Jokowi di ...</td>\n",
       "    </tr>\n",
       "    <tr>\n",
       "      <th>4398</th>\n",
       "      <td>1</td>\n",
       "      <td>5. masa depannya nggak jelas. lha iya, gimana ...</td>\n",
       "    </tr>\n",
       "    <tr>\n",
       "      <th>4399</th>\n",
       "      <td>0</td>\n",
       "      <td>[USERNAME] dulu beneran ada mahasiswa Teknik U...</td>\n",
       "    </tr>\n",
       "    <tr>\n",
       "      <th>4400</th>\n",
       "      <td>2</td>\n",
       "      <td>Ya Allah, hanya Engkau yang mengetahui rasa sa...</td>\n",
       "    </tr>\n",
       "  </tbody>\n",
       "</table>\n",
       "<p>4401 rows × 2 columns</p>\n",
       "</div>"
      ],
      "text/plain": [
       "      label                                              tweet\n",
       "0         1  Soal jln Jatibaru,polisi tdk bs GERTAK gubernu...\n",
       "1         1  Sesama cewe lho (kayaknya), harusnya bisa lebi...\n",
       "2         0  Kepingin gudeg mbarek Bu hj. Amad Foto dari go...\n",
       "3         1  Jln Jatibaru,bagian dari wilayah Tn Abang.Peng...\n",
       "4         0  Sharing pengalaman aja, kemarin jam 18.00 bata...\n",
       "...     ...                                                ...\n",
       "4396      4  Tahukah kamu, bahwa saat itu papa memejamkan m...\n",
       "4397      3  Sulitnya menetapkan Calon Wapresnya Jokowi di ...\n",
       "4398      1  5. masa depannya nggak jelas. lha iya, gimana ...\n",
       "4399      0  [USERNAME] dulu beneran ada mahasiswa Teknik U...\n",
       "4400      2  Ya Allah, hanya Engkau yang mengetahui rasa sa...\n",
       "\n",
       "[4401 rows x 2 columns]"
      ]
     },
     "execution_count": 23,
     "metadata": {},
     "output_type": "execute_result"
    }
   ],
   "source": [
    "data_labelled['label'] = data_labelled['label'].replace(['happy', 'anger', 'sadness', 'fear', 'love'],[0, 1, 2, 3, 4]  )\n",
    "data_labelled"
   ]
  },
  {
   "cell_type": "code",
   "execution_count": 11,
   "id": "309c5f45",
   "metadata": {},
   "outputs": [
    {
     "ename": "NameError",
     "evalue": "name 'x_train' is not defined",
     "output_type": "error",
     "traceback": [
      "\u001b[1;31m---------------------------------------------------------------------------\u001b[0m",
      "\u001b[1;31mNameError\u001b[0m                                 Traceback (most recent call last)",
      "\u001b[1;32mc:\\Users\\pradi\\emotion classification thesis.ipynb Cell 38\u001b[0m in \u001b[0;36m2\n\u001b[0;32m      <a href='vscode-notebook-cell:/c%3A/Users/pradi/emotion%20classification%20thesis.ipynb#X52sZmlsZQ%3D%3D?line=0'>1</a>\u001b[0m \u001b[39mwith\u001b[39;00m pd\u001b[39m.\u001b[39moption_context(\u001b[39m'\u001b[39m\u001b[39mdisplay.max_colwidth\u001b[39m\u001b[39m'\u001b[39m, \u001b[39mNone\u001b[39;00m):\n\u001b[1;32m----> <a href='vscode-notebook-cell:/c%3A/Users/pradi/emotion%20classification%20thesis.ipynb#X52sZmlsZQ%3D%3D?line=1'>2</a>\u001b[0m     display(pd\u001b[39m.\u001b[39mDataFrame({\u001b[39m\"\u001b[39m\u001b[39mtweet\u001b[39m\u001b[39m\"\u001b[39m: x_train, \u001b[39m\"\u001b[39m\u001b[39mlabel\u001b[39m\u001b[39m\"\u001b[39m: y_train}))\n",
      "\u001b[1;31mNameError\u001b[0m: name 'x_train' is not defined"
     ]
    }
   ],
   "source": [
    "with pd.option_context('display.max_colwidth', None):\n",
    "    display(pd.DataFrame({\"tweet\": x_train, \"label\": y_train}))"
   ]
  },
  {
   "cell_type": "code",
   "execution_count": 24,
   "id": "baaf9219",
   "metadata": {},
   "outputs": [],
   "source": [
    "from sklearn.model_selection import train_test_split\n",
    "\n",
    "X = data_labelled['tweet']\n",
    "y = data_labelled['label']\n",
    "\n",
    "X_train_normal, X_test_normal, y_train_normal, y_test_normal = train_test_split(X, y, test_size=0.2, random_state=42)"
   ]
  },
  {
   "cell_type": "code",
   "execution_count": 62,
   "id": "6d75fa8e",
   "metadata": {},
   "outputs": [],
   "source": [
    "combined_X_train = pd.concat([snorkel_data_20['tweet'], X_train_normal])\n"
   ]
  },
  {
   "cell_type": "code",
   "execution_count": 63,
   "id": "0ff831dd",
   "metadata": {},
   "outputs": [],
   "source": [
    "combined_y_train = pd.concat([snorkel_data_20['label'], y_train_normal])\n"
   ]
  },
  {
   "cell_type": "code",
   "execution_count": null,
   "id": "27b6094e",
   "metadata": {},
   "outputs": [
    {
     "ename": "",
     "evalue": "",
     "output_type": "error",
     "traceback": [
      "\u001b[1;31mRunning cells with 'base' requires the ipykernel package.\n",
      "\u001b[1;31mRun the following command to install 'ipykernel' into the Python environment. \n",
      "\u001b[1;31mCommand: 'conda install -n base ipykernel --update-deps --force-reinstall'"
     ]
    }
   ],
   "source": [
    "combined_y_train.value_counts()"
   ]
  },
  {
   "cell_type": "code",
   "execution_count": 64,
   "id": "cdb37515",
   "metadata": {},
   "outputs": [
    {
     "data": {
      "text/plain": [
       "0       2\n",
       "1       0\n",
       "2       4\n",
       "3       4\n",
       "4       0\n",
       "       ..\n",
       "3444    0\n",
       "466     1\n",
       "3092    2\n",
       "3772    1\n",
       "860     2\n",
       "Name: label, Length: 6820, dtype: int64"
      ]
     },
     "execution_count": 64,
     "metadata": {},
     "output_type": "execute_result"
    }
   ],
   "source": [
    "combined_y_train"
   ]
  },
  {
   "cell_type": "code",
   "execution_count": null,
   "id": "a3dd09e6",
   "metadata": {},
   "outputs": [],
   "source": [
    "combined_X_train.to_csv('D:\\Downloads\\Combined_X_train.csv')\n"
   ]
  },
  {
   "cell_type": "code",
   "execution_count": null,
   "id": "2108bcd2",
   "metadata": {},
   "outputs": [],
   "source": [
    "combined_y_train.to_csv('D:\\Downloads\\Combined_y_train.csv')"
   ]
  },
  {
   "cell_type": "code",
   "execution_count": 20,
   "id": "d6e36aaf",
   "metadata": {},
   "outputs": [
    {
     "data": {
      "text/plain": [
       "4401"
      ]
     },
     "execution_count": 20,
     "metadata": {},
     "output_type": "execute_result"
    }
   ],
   "source": [
    "data_labelled['tweet'].count()"
   ]
  },
  {
   "cell_type": "code",
   "execution_count": 55,
   "id": "2c5bba78",
   "metadata": {},
   "outputs": [],
   "source": [
    "records = label_model.predict()\n",
    "label2int = {'happy': 0, 'anger': 1, 'sadness': 2, 'fear': 3, 'love': 4}\n",
    "x_train = [rec.text for rec in records]\n",
    "y_train = [label2int[rec.prediction[0][0]] for rec in records]"
   ]
  },
  {
   "cell_type": "code",
   "execution_count": 56,
   "id": "db3a4436",
   "metadata": {},
   "outputs": [
    {
     "data": {
      "text/html": [
       "<div>\n",
       "<style scoped>\n",
       "    .dataframe tbody tr th:only-of-type {\n",
       "        vertical-align: middle;\n",
       "    }\n",
       "\n",
       "    .dataframe tbody tr th {\n",
       "        vertical-align: top;\n",
       "    }\n",
       "\n",
       "    .dataframe thead th {\n",
       "        text-align: right;\n",
       "    }\n",
       "</style>\n",
       "<table border=\"1\" class=\"dataframe\">\n",
       "  <thead>\n",
       "    <tr style=\"text-align: right;\">\n",
       "      <th></th>\n",
       "      <th>tweet</th>\n",
       "      <th>label</th>\n",
       "    </tr>\n",
       "  </thead>\n",
       "  <tbody>\n",
       "    <tr>\n",
       "      <th>0</th>\n",
       "      <td>Wihh ikutan happy Congrats sista</td>\n",
       "      <td>0</td>\n",
       "    </tr>\n",
       "    <tr>\n",
       "      <th>1</th>\n",
       "      <td>Di marah marahin terus sama bagol padahal sepanjang pertandingan</td>\n",
       "      <td>1</td>\n",
       "    </tr>\n",
       "    <tr>\n",
       "      <th>2</th>\n",
       "      <td>Jangan sedih cantik</td>\n",
       "      <td>2</td>\n",
       "    </tr>\n",
       "    <tr>\n",
       "      <th>3</th>\n",
       "      <td>Masih syukur UMR Saya dibawah umur Cuman Dan kasihan lagi yang dibawah saya ORANG KAYA ADALAH ORANG SELALU MERASA CUKUP ORANG MISKIN ADALAH ORANG YANG SELALU MERASA KURANG INGAT SAAT NANTI NAFAS STOP DARI BADANMU APA YANG AKAN KAMU PERBUAT DENGAN HARTAMU INGAT MATI</td>\n",
       "      <td>2</td>\n",
       "    </tr>\n",
       "    <tr>\n",
       "      <th>4</th>\n",
       "      <td>Happy easter</td>\n",
       "      <td>0</td>\n",
       "    </tr>\n",
       "    <tr>\n",
       "      <th>...</th>\n",
       "      <td>...</td>\n",
       "      <td>...</td>\n",
       "    </tr>\n",
       "    <tr>\n",
       "      <th>3255</th>\n",
       "      <td>Orang takut mah ngumpett ini takut malah pengen bj Takut aja terus selagi nonton dah wkwkk</td>\n",
       "      <td>3</td>\n",
       "    </tr>\n",
       "    <tr>\n",
       "      <th>3256</th>\n",
       "      <td>Patah hati terbesar personil member bukan sebatas memutuskan keluar dari team tp kehilangan member dgn cara menyedihkan dan LBH miris lagi saat dia membutuhkan sosok disamping dia ngerasa sendiri sampai akhir hayatnya ahhh andai waktu bs diputar mungkin cerita akan beda</td>\n",
       "      <td>2</td>\n",
       "    </tr>\n",
       "    <tr>\n",
       "      <th>3257</th>\n",
       "      <td>Gacocok jadi influencer baru difollo banyak cowo aja bawaannya malah takut</td>\n",
       "      <td>3</td>\n",
       "    </tr>\n",
       "    <tr>\n",
       "      <th>3258</th>\n",
       "      <td>Puasa dibikin kesel emg ada aja da ampun</td>\n",
       "      <td>1</td>\n",
       "    </tr>\n",
       "    <tr>\n",
       "      <th>3259</th>\n",
       "      <td>Salwa kenapa akhir ini nangis mulu itu skinkernya mon maap sayang</td>\n",
       "      <td>4</td>\n",
       "    </tr>\n",
       "  </tbody>\n",
       "</table>\n",
       "<p>3260 rows × 2 columns</p>\n",
       "</div>"
      ],
      "text/plain": [
       "                                                                                                                                                                                                                                                                               tweet  \\\n",
       "0                                                                                                                                                                                                                                                   Wihh ikutan happy Congrats sista   \n",
       "1                                                                                                                                                                                                                   Di marah marahin terus sama bagol padahal sepanjang pertandingan   \n",
       "2                                                                                                                                                                                                                                                                Jangan sedih cantik   \n",
       "3          Masih syukur UMR Saya dibawah umur Cuman Dan kasihan lagi yang dibawah saya ORANG KAYA ADALAH ORANG SELALU MERASA CUKUP ORANG MISKIN ADALAH ORANG YANG SELALU MERASA KURANG INGAT SAAT NANTI NAFAS STOP DARI BADANMU APA YANG AKAN KAMU PERBUAT DENGAN HARTAMU INGAT MATI   \n",
       "4                                                                                                                                                                                                                                                                       Happy easter   \n",
       "...                                                                                                                                                                                                                                                                              ...   \n",
       "3255                                                                                                                                                                                      Orang takut mah ngumpett ini takut malah pengen bj Takut aja terus selagi nonton dah wkwkk   \n",
       "3256  Patah hati terbesar personil member bukan sebatas memutuskan keluar dari team tp kehilangan member dgn cara menyedihkan dan LBH miris lagi saat dia membutuhkan sosok disamping dia ngerasa sendiri sampai akhir hayatnya ahhh andai waktu bs diputar mungkin cerita akan beda   \n",
       "3257                                                                                                                                                                                                      Gacocok jadi influencer baru difollo banyak cowo aja bawaannya malah takut   \n",
       "3258                                                                                                                                                                                                                                        Puasa dibikin kesel emg ada aja da ampun   \n",
       "3259                                                                                                                                                                                                               Salwa kenapa akhir ini nangis mulu itu skinkernya mon maap sayang   \n",
       "\n",
       "      label  \n",
       "0         0  \n",
       "1         1  \n",
       "2         2  \n",
       "3         2  \n",
       "4         0  \n",
       "...     ...  \n",
       "3255      3  \n",
       "3256      2  \n",
       "3257      3  \n",
       "3258      1  \n",
       "3259      4  \n",
       "\n",
       "[3260 rows x 2 columns]"
      ]
     },
     "metadata": {},
     "output_type": "display_data"
    }
   ],
   "source": [
    "with pd.option_context('display.max_colwidth', None):\n",
    "    display(pd.DataFrame({\"tweet\": x_train, \"label\": y_train}))\n",
    "\n"
   ]
  },
  {
   "cell_type": "code",
   "execution_count": 52,
   "id": "56cd8656",
   "metadata": {},
   "outputs": [],
   "source": [
    "df=pd.DataFrame({\"tweet\": x_train, \"label\": y_train})\n",
    "df.to_csv(\"D:\\Downloads\\Snorkel_dataset_with_20_test.csv\", encoding='utf-8')\n"
   ]
  },
  {
   "cell_type": "code",
   "execution_count": 14,
   "id": "a2cdfe22",
   "metadata": {},
   "outputs": [
    {
     "data": {
      "text/html": [
       "<div>\n",
       "<style scoped>\n",
       "    .dataframe tbody tr th:only-of-type {\n",
       "        vertical-align: middle;\n",
       "    }\n",
       "\n",
       "    .dataframe tbody tr th {\n",
       "        vertical-align: top;\n",
       "    }\n",
       "\n",
       "    .dataframe thead th {\n",
       "        text-align: right;\n",
       "    }\n",
       "</style>\n",
       "<table border=\"1\" class=\"dataframe\">\n",
       "  <thead>\n",
       "    <tr style=\"text-align: right;\">\n",
       "      <th></th>\n",
       "      <th>Unnamed: 0</th>\n",
       "      <th>tweet</th>\n",
       "      <th>label</th>\n",
       "    </tr>\n",
       "  </thead>\n",
       "  <tbody>\n",
       "    <tr>\n",
       "      <th>0</th>\n",
       "      <td>0</td>\n",
       "      <td>org org knpa pada jahat sama gw hari ini astaga</td>\n",
       "      <td>2</td>\n",
       "    </tr>\n",
       "    <tr>\n",
       "      <th>1</th>\n",
       "      <td>1</td>\n",
       "      <td>Happy Birthday</td>\n",
       "      <td>0</td>\n",
       "    </tr>\n",
       "    <tr>\n",
       "      <th>2</th>\n",
       "      <td>2</td>\n",
       "      <td>ShaniJKT aamiin semangat sayangku bimbingan ad...</td>\n",
       "      <td>4</td>\n",
       "    </tr>\n",
       "    <tr>\n",
       "      <th>3</th>\n",
       "      <td>3</td>\n",
       "      <td>Rykarl bucin sangat smp suruh Fir minta maaf k...</td>\n",
       "      <td>4</td>\n",
       "    </tr>\n",
       "    <tr>\n",
       "      <th>4</th>\n",
       "      <td>4</td>\n",
       "      <td>funsized Happy birthday</td>\n",
       "      <td>0</td>\n",
       "    </tr>\n",
       "    <tr>\n",
       "      <th>...</th>\n",
       "      <td>...</td>\n",
       "      <td>...</td>\n",
       "      <td>...</td>\n",
       "    </tr>\n",
       "    <tr>\n",
       "      <th>995</th>\n",
       "      <td>995</td>\n",
       "      <td>Sekarang liat yang lucu dikit aja udah mulai k...</td>\n",
       "      <td>0</td>\n",
       "    </tr>\n",
       "    <tr>\n",
       "      <th>996</th>\n",
       "      <td>996</td>\n",
       "      <td>The boss baby How to train your dragon The emo...</td>\n",
       "      <td>0</td>\n",
       "    </tr>\n",
       "    <tr>\n",
       "      <th>997</th>\n",
       "      <td>997</td>\n",
       "      <td>HASIL PENGELUARAN HUAHIN Hari Ini SABTU April ...</td>\n",
       "      <td>1</td>\n",
       "    </tr>\n",
       "    <tr>\n",
       "      <th>998</th>\n",
       "      <td>998</td>\n",
       "      <td>kalau boleh soalnya takut kekampus sendiri   a...</td>\n",
       "      <td>3</td>\n",
       "    </tr>\n",
       "    <tr>\n",
       "      <th>999</th>\n",
       "      <td>999</td>\n",
       "      <td>love you</td>\n",
       "      <td>4</td>\n",
       "    </tr>\n",
       "  </tbody>\n",
       "</table>\n",
       "<p>1000 rows × 3 columns</p>\n",
       "</div>"
      ],
      "text/plain": [
       "     Unnamed: 0                                              tweet  label\n",
       "0             0    org org knpa pada jahat sama gw hari ini astaga      2\n",
       "1             1                                     Happy Birthday      0\n",
       "2             2  ShaniJKT aamiin semangat sayangku bimbingan ad...      4\n",
       "3             3  Rykarl bucin sangat smp suruh Fir minta maaf k...      4\n",
       "4             4                            funsized Happy birthday      0\n",
       "..          ...                                                ...    ...\n",
       "995         995  Sekarang liat yang lucu dikit aja udah mulai k...      0\n",
       "996         996  The boss baby How to train your dragon The emo...      0\n",
       "997         997  HASIL PENGELUARAN HUAHIN Hari Ini SABTU April ...      1\n",
       "998         998  kalau boleh soalnya takut kekampus sendiri   a...      3\n",
       "999         999                                           love you      4\n",
       "\n",
       "[1000 rows x 3 columns]"
      ]
     },
     "execution_count": 14,
     "metadata": {},
     "output_type": "execute_result"
    }
   ],
   "source": [
    "snorkel_data = pd.read_csv(\"D:\\Downloads\\Snorkel_dataset_v7.csv\")\n",
    "# snorkel_data['label'] = snorkel_data['label'].replace([0, 1, 2, 3, 4], ['happy', 'anger', 'sadness', 'fear', 'love'] )\n",
    "snorkel_data.head(1000)"
   ]
  },
  {
   "cell_type": "code",
   "execution_count": 54,
   "id": "9ec1639a",
   "metadata": {},
   "outputs": [
    {
     "data": {
      "text/html": [
       "<div>\n",
       "<style scoped>\n",
       "    .dataframe tbody tr th:only-of-type {\n",
       "        vertical-align: middle;\n",
       "    }\n",
       "\n",
       "    .dataframe tbody tr th {\n",
       "        vertical-align: top;\n",
       "    }\n",
       "\n",
       "    .dataframe thead th {\n",
       "        text-align: right;\n",
       "    }\n",
       "</style>\n",
       "<table border=\"1\" class=\"dataframe\">\n",
       "  <thead>\n",
       "    <tr style=\"text-align: right;\">\n",
       "      <th></th>\n",
       "      <th>Unnamed: 0</th>\n",
       "      <th>tweet</th>\n",
       "      <th>label</th>\n",
       "    </tr>\n",
       "  </thead>\n",
       "  <tbody>\n",
       "    <tr>\n",
       "      <th>0</th>\n",
       "      <td>0</td>\n",
       "      <td>org org knpa pada jahat sama gw hari ini astaga</td>\n",
       "      <td>2</td>\n",
       "    </tr>\n",
       "    <tr>\n",
       "      <th>1</th>\n",
       "      <td>1</td>\n",
       "      <td>Happy Birthday</td>\n",
       "      <td>0</td>\n",
       "    </tr>\n",
       "    <tr>\n",
       "      <th>2</th>\n",
       "      <td>2</td>\n",
       "      <td>ShaniJKT aamiin semangat sayangku bimbingan ad...</td>\n",
       "      <td>4</td>\n",
       "    </tr>\n",
       "    <tr>\n",
       "      <th>3</th>\n",
       "      <td>3</td>\n",
       "      <td>Rykarl bucin sangat smp suruh Fir minta maaf k...</td>\n",
       "      <td>4</td>\n",
       "    </tr>\n",
       "    <tr>\n",
       "      <th>4</th>\n",
       "      <td>4</td>\n",
       "      <td>funsized Happy birthday</td>\n",
       "      <td>0</td>\n",
       "    </tr>\n",
       "    <tr>\n",
       "      <th>...</th>\n",
       "      <td>...</td>\n",
       "      <td>...</td>\n",
       "      <td>...</td>\n",
       "    </tr>\n",
       "    <tr>\n",
       "      <th>3295</th>\n",
       "      <td>3295</td>\n",
       "      <td>Happy birthday boss</td>\n",
       "      <td>0</td>\n",
       "    </tr>\n",
       "    <tr>\n",
       "      <th>3296</th>\n",
       "      <td>3296</td>\n",
       "      <td>Yeayy Alhamdulillah lazada pecah telor today s...</td>\n",
       "      <td>0</td>\n",
       "    </tr>\n",
       "    <tr>\n",
       "      <th>3297</th>\n",
       "      <td>3297</td>\n",
       "      <td>kaget lebih ke takut si</td>\n",
       "      <td>3</td>\n",
       "    </tr>\n",
       "    <tr>\n",
       "      <th>3298</th>\n",
       "      <td>3298</td>\n",
       "      <td>Astaga lupa</td>\n",
       "      <td>2</td>\n",
       "    </tr>\n",
       "    <tr>\n",
       "      <th>3299</th>\n",
       "      <td>3299</td>\n",
       "      <td>Dengan senang hati kami informasikan Untuk jam...</td>\n",
       "      <td>0</td>\n",
       "    </tr>\n",
       "  </tbody>\n",
       "</table>\n",
       "<p>3300 rows × 3 columns</p>\n",
       "</div>"
      ],
      "text/plain": [
       "      Unnamed: 0                                              tweet  label\n",
       "0              0    org org knpa pada jahat sama gw hari ini astaga      2\n",
       "1              1                                     Happy Birthday      0\n",
       "2              2  ShaniJKT aamiin semangat sayangku bimbingan ad...      4\n",
       "3              3  Rykarl bucin sangat smp suruh Fir minta maaf k...      4\n",
       "4              4                            funsized Happy birthday      0\n",
       "...          ...                                                ...    ...\n",
       "3295        3295                                Happy birthday boss      0\n",
       "3296        3296  Yeayy Alhamdulillah lazada pecah telor today s...      0\n",
       "3297        3297                            kaget lebih ke takut si      3\n",
       "3298        3298                                        Astaga lupa      2\n",
       "3299        3299  Dengan senang hati kami informasikan Untuk jam...      0\n",
       "\n",
       "[3300 rows x 3 columns]"
      ]
     },
     "execution_count": 54,
     "metadata": {},
     "output_type": "execute_result"
    }
   ],
   "source": [
    "snorkel_data_20 = pd.read_csv(\"D:\\Downloads\\Snorkel_dataset_with_20_test.csv\")\n",
    "# snorkel_data['label'] = snorkel_data['label'].replace([0, 1, 2, 3, 4], ['happy', 'anger', 'sadness', 'fear', 'love'] )\n",
    "snorkel_data_20"
   ]
  },
  {
   "cell_type": "code",
   "execution_count": 15,
   "id": "e21f811f",
   "metadata": {},
   "outputs": [
    {
     "data": {
      "text/html": [
       "<div>\n",
       "<style scoped>\n",
       "    .dataframe tbody tr th:only-of-type {\n",
       "        vertical-align: middle;\n",
       "    }\n",
       "\n",
       "    .dataframe tbody tr th {\n",
       "        vertical-align: top;\n",
       "    }\n",
       "\n",
       "    .dataframe thead th {\n",
       "        text-align: right;\n",
       "    }\n",
       "</style>\n",
       "<table border=\"1\" class=\"dataframe\">\n",
       "  <thead>\n",
       "    <tr style=\"text-align: right;\">\n",
       "      <th></th>\n",
       "      <th>tweet</th>\n",
       "      <th>label</th>\n",
       "    </tr>\n",
       "  </thead>\n",
       "  <tbody>\n",
       "    <tr>\n",
       "      <th>0</th>\n",
       "      <td>org org knpa pada jahat sama gw hari ini astaga</td>\n",
       "      <td>2</td>\n",
       "    </tr>\n",
       "    <tr>\n",
       "      <th>1</th>\n",
       "      <td>Happy Birthday</td>\n",
       "      <td>0</td>\n",
       "    </tr>\n",
       "    <tr>\n",
       "      <th>2</th>\n",
       "      <td>ShaniJKT aamiin semangat sayangku bimbingan ad...</td>\n",
       "      <td>4</td>\n",
       "    </tr>\n",
       "    <tr>\n",
       "      <th>3</th>\n",
       "      <td>Rykarl bucin sangat smp suruh Fir minta maaf k...</td>\n",
       "      <td>4</td>\n",
       "    </tr>\n",
       "    <tr>\n",
       "      <th>4</th>\n",
       "      <td>funsized Happy birthday</td>\n",
       "      <td>0</td>\n",
       "    </tr>\n",
       "    <tr>\n",
       "      <th>...</th>\n",
       "      <td>...</td>\n",
       "      <td>...</td>\n",
       "    </tr>\n",
       "    <tr>\n",
       "      <th>3295</th>\n",
       "      <td>Happy birthday boss</td>\n",
       "      <td>0</td>\n",
       "    </tr>\n",
       "    <tr>\n",
       "      <th>3296</th>\n",
       "      <td>Yeayy Alhamdulillah lazada pecah telor today s...</td>\n",
       "      <td>0</td>\n",
       "    </tr>\n",
       "    <tr>\n",
       "      <th>3297</th>\n",
       "      <td>kaget lebih ke takut si</td>\n",
       "      <td>3</td>\n",
       "    </tr>\n",
       "    <tr>\n",
       "      <th>3298</th>\n",
       "      <td>Astaga lupa</td>\n",
       "      <td>2</td>\n",
       "    </tr>\n",
       "    <tr>\n",
       "      <th>3299</th>\n",
       "      <td>Dengan senang hati kami informasikan Untuk jam...</td>\n",
       "      <td>0</td>\n",
       "    </tr>\n",
       "  </tbody>\n",
       "</table>\n",
       "<p>3300 rows × 2 columns</p>\n",
       "</div>"
      ],
      "text/plain": [
       "                                                  tweet  label\n",
       "0       org org knpa pada jahat sama gw hari ini astaga      2\n",
       "1                                        Happy Birthday      0\n",
       "2     ShaniJKT aamiin semangat sayangku bimbingan ad...      4\n",
       "3     Rykarl bucin sangat smp suruh Fir minta maaf k...      4\n",
       "4                               funsized Happy birthday      0\n",
       "...                                                 ...    ...\n",
       "3295                                Happy birthday boss      0\n",
       "3296  Yeayy Alhamdulillah lazada pecah telor today s...      0\n",
       "3297                            kaget lebih ke takut si      3\n",
       "3298                                        Astaga lupa      2\n",
       "3299  Dengan senang hati kami informasikan Untuk jam...      0\n",
       "\n",
       "[3300 rows x 2 columns]"
      ]
     },
     "execution_count": 15,
     "metadata": {},
     "output_type": "execute_result"
    }
   ],
   "source": [
    "snorkel_data.drop(columns=['Unnamed: 0'])"
   ]
  },
  {
   "cell_type": "code",
   "execution_count": 73,
   "id": "9d07e719",
   "metadata": {},
   "outputs": [
    {
     "data": {
      "text/plain": [
       "3300"
      ]
     },
     "execution_count": 73,
     "metadata": {},
     "output_type": "execute_result"
    }
   ],
   "source": [
    "snorkel_data_20['label'].count()"
   ]
  },
  {
   "cell_type": "code",
   "execution_count": 17,
   "id": "c6b42c13",
   "metadata": {},
   "outputs": [
    {
     "data": {
      "text/plain": [
       "0    942\n",
       "4    553\n",
       "1    437\n",
       "3    371\n",
       "2    337\n",
       "Name: label, dtype: int64"
      ]
     },
     "execution_count": 17,
     "metadata": {},
     "output_type": "execute_result"
    }
   ],
   "source": [
    "from sklearn.model_selection import train_test_split\n",
    "\n",
    "\n",
    "train_data_snorkel, test_data_snorkel = train_test_split(snorkel_data, test_size=0.2, random_state=42)\n",
    "train_data_snorkel['label'].value_counts()"
   ]
  },
  {
   "cell_type": "code",
   "execution_count": 71,
   "id": "686db4ab",
   "metadata": {},
   "outputs": [
    {
     "data": {
      "text/plain": [
       "1    226\n",
       "2    213\n",
       "0    195\n",
       "4    124\n",
       "3    122\n",
       "Name: label, dtype: int64"
      ]
     },
     "execution_count": 71,
     "metadata": {},
     "output_type": "execute_result"
    }
   ],
   "source": [
    "testing_data['label'].value_counts()"
   ]
  },
  {
   "cell_type": "code",
   "execution_count": 65,
   "id": "163aa3bb",
   "metadata": {},
   "outputs": [
    {
     "data": {
      "text/html": [
       "<style>#sk-container-id-6 {color: black;background-color: white;}#sk-container-id-6 pre{padding: 0;}#sk-container-id-6 div.sk-toggleable {background-color: white;}#sk-container-id-6 label.sk-toggleable__label {cursor: pointer;display: block;width: 100%;margin-bottom: 0;padding: 0.3em;box-sizing: border-box;text-align: center;}#sk-container-id-6 label.sk-toggleable__label-arrow:before {content: \"▸\";float: left;margin-right: 0.25em;color: #696969;}#sk-container-id-6 label.sk-toggleable__label-arrow:hover:before {color: black;}#sk-container-id-6 div.sk-estimator:hover label.sk-toggleable__label-arrow:before {color: black;}#sk-container-id-6 div.sk-toggleable__content {max-height: 0;max-width: 0;overflow: hidden;text-align: left;background-color: #f0f8ff;}#sk-container-id-6 div.sk-toggleable__content pre {margin: 0.2em;color: black;border-radius: 0.25em;background-color: #f0f8ff;}#sk-container-id-6 input.sk-toggleable__control:checked~div.sk-toggleable__content {max-height: 200px;max-width: 100%;overflow: auto;}#sk-container-id-6 input.sk-toggleable__control:checked~label.sk-toggleable__label-arrow:before {content: \"▾\";}#sk-container-id-6 div.sk-estimator input.sk-toggleable__control:checked~label.sk-toggleable__label {background-color: #d4ebff;}#sk-container-id-6 div.sk-label input.sk-toggleable__control:checked~label.sk-toggleable__label {background-color: #d4ebff;}#sk-container-id-6 input.sk-hidden--visually {border: 0;clip: rect(1px 1px 1px 1px);clip: rect(1px, 1px, 1px, 1px);height: 1px;margin: -1px;overflow: hidden;padding: 0;position: absolute;width: 1px;}#sk-container-id-6 div.sk-estimator {font-family: monospace;background-color: #f0f8ff;border: 1px dotted black;border-radius: 0.25em;box-sizing: border-box;margin-bottom: 0.5em;}#sk-container-id-6 div.sk-estimator:hover {background-color: #d4ebff;}#sk-container-id-6 div.sk-parallel-item::after {content: \"\";width: 100%;border-bottom: 1px solid gray;flex-grow: 1;}#sk-container-id-6 div.sk-label:hover label.sk-toggleable__label {background-color: #d4ebff;}#sk-container-id-6 div.sk-serial::before {content: \"\";position: absolute;border-left: 1px solid gray;box-sizing: border-box;top: 0;bottom: 0;left: 50%;z-index: 0;}#sk-container-id-6 div.sk-serial {display: flex;flex-direction: column;align-items: center;background-color: white;padding-right: 0.2em;padding-left: 0.2em;position: relative;}#sk-container-id-6 div.sk-item {position: relative;z-index: 1;}#sk-container-id-6 div.sk-parallel {display: flex;align-items: stretch;justify-content: center;background-color: white;position: relative;}#sk-container-id-6 div.sk-item::before, #sk-container-id-6 div.sk-parallel-item::before {content: \"\";position: absolute;border-left: 1px solid gray;box-sizing: border-box;top: 0;bottom: 0;left: 50%;z-index: -1;}#sk-container-id-6 div.sk-parallel-item {display: flex;flex-direction: column;z-index: 1;position: relative;background-color: white;}#sk-container-id-6 div.sk-parallel-item:first-child::after {align-self: flex-end;width: 50%;}#sk-container-id-6 div.sk-parallel-item:last-child::after {align-self: flex-start;width: 50%;}#sk-container-id-6 div.sk-parallel-item:only-child::after {width: 0;}#sk-container-id-6 div.sk-dashed-wrapped {border: 1px dashed gray;margin: 0 0.4em 0.5em 0.4em;box-sizing: border-box;padding-bottom: 0.4em;background-color: white;}#sk-container-id-6 div.sk-label label {font-family: monospace;font-weight: bold;display: inline-block;line-height: 1.2em;}#sk-container-id-6 div.sk-label-container {text-align: center;}#sk-container-id-6 div.sk-container {/* jupyter's `normalize.less` sets `[hidden] { display: none; }` but bootstrap.min.css set `[hidden] { display: none !important; }` so we also need the `!important` here to be able to override the default hidden behavior on the sphinx rendered scikit-learn.org. See: https://github.com/scikit-learn/scikit-learn/issues/21755 */display: inline-block !important;position: relative;}#sk-container-id-6 div.sk-text-repr-fallback {display: none;}</style><div id=\"sk-container-id-6\" class=\"sk-top-container\"><div class=\"sk-text-repr-fallback\"><pre>Pipeline(steps=[(&#x27;vect&#x27;, CountVectorizer()), (&#x27;clf&#x27;, SVC(kernel=&#x27;linear&#x27;))])</pre><b>In a Jupyter environment, please rerun this cell to show the HTML representation or trust the notebook. <br />On GitHub, the HTML representation is unable to render, please try loading this page with nbviewer.org.</b></div><div class=\"sk-container\" hidden><div class=\"sk-item sk-dashed-wrapped\"><div class=\"sk-label-container\"><div class=\"sk-label sk-toggleable\"><input class=\"sk-toggleable__control sk-hidden--visually\" id=\"sk-estimator-id-16\" type=\"checkbox\" ><label for=\"sk-estimator-id-16\" class=\"sk-toggleable__label sk-toggleable__label-arrow\">Pipeline</label><div class=\"sk-toggleable__content\"><pre>Pipeline(steps=[(&#x27;vect&#x27;, CountVectorizer()), (&#x27;clf&#x27;, SVC(kernel=&#x27;linear&#x27;))])</pre></div></div></div><div class=\"sk-serial\"><div class=\"sk-item\"><div class=\"sk-estimator sk-toggleable\"><input class=\"sk-toggleable__control sk-hidden--visually\" id=\"sk-estimator-id-17\" type=\"checkbox\" ><label for=\"sk-estimator-id-17\" class=\"sk-toggleable__label sk-toggleable__label-arrow\">CountVectorizer</label><div class=\"sk-toggleable__content\"><pre>CountVectorizer()</pre></div></div></div><div class=\"sk-item\"><div class=\"sk-estimator sk-toggleable\"><input class=\"sk-toggleable__control sk-hidden--visually\" id=\"sk-estimator-id-18\" type=\"checkbox\" ><label for=\"sk-estimator-id-18\" class=\"sk-toggleable__label sk-toggleable__label-arrow\">SVC</label><div class=\"sk-toggleable__content\"><pre>SVC(kernel=&#x27;linear&#x27;)</pre></div></div></div></div></div></div></div>"
      ],
      "text/plain": [
       "Pipeline(steps=[('vect', CountVectorizer()), ('clf', SVC(kernel='linear'))])"
      ]
     },
     "execution_count": 65,
     "metadata": {},
     "output_type": "execute_result"
    }
   ],
   "source": [
    "from sklearn.feature_extraction.text import TfidfTransformer, CountVectorizer, TfidfVectorizer\n",
    "from transformers import AutoTokenizer, TFAutoModel\n",
    "# from sklearn.naive_bayes import MultinomialNB\n",
    "from sklearn.pipeline import Pipeline\n",
    "from sklearn import svm\n",
    "\n",
    "# tokenizer = AutoTokenizer.from_pretrained(\"MoritzLaurer/mDeBERTa-v3-base-xnli-multilingual-nli-2mil7\")\n",
    "# model = TFAutoModel.from_pretrained(\"MoritzLaurer/mDeBERTa-v3-base-xnli-multilingual-nli-2mil7\", from_pt=True)\n",
    "\n",
    "classifier = Pipeline([\n",
    "    ('vect', CountVectorizer()),\n",
    "    # ('tfidf', TfidfVectorizer(tokenizer=tokenizer.tokenize)),\n",
    "    ('clf', svm.SVC(kernel='linear'))\n",
    "])\n",
    "\n",
    "classifier.fit(X=combined_X_train, y=combined_y_train,)"
   ]
  },
  {
   "attachments": {},
   "cell_type": "markdown",
   "id": "70c5c85c",
   "metadata": {},
   "source": []
  },
  {
   "cell_type": "code",
   "execution_count": 59,
   "id": "acc9a973",
   "metadata": {},
   "outputs": [],
   "source": [
    "test_ds = weak_labels.records(has_annotation=True)\n",
    "\n",
    "\n",
    "X_test = [rec.text for rec in test_ds]\n",
    "y_test = [label2int[rec.annotation] for rec in test_ds]"
   ]
  },
  {
   "cell_type": "code",
   "execution_count": 66,
   "id": "b1ea5993",
   "metadata": {},
   "outputs": [
    {
     "name": "stdout",
     "output_type": "stream",
     "text": [
      "Test accuracy: 0.6140749148694665\n"
     ]
    }
   ],
   "source": [
    "accuracy = classifier.score(\n",
    "    X=X_test_normal,\n",
    "    y=y_test_normal,\n",
    ")\n",
    "\n",
    "print(f\"Test accuracy: {accuracy}\")"
   ]
  },
  {
   "cell_type": "code",
   "execution_count": 67,
   "id": "ab3055e7",
   "metadata": {},
   "outputs": [
    {
     "name": "stdout",
     "output_type": "stream",
     "text": [
      "              precision    recall  f1-score   support\n",
      "\n",
      "       happy       0.57      0.58      0.58       214\n",
      "       anger       0.62      0.67      0.65       229\n",
      "     sadness       0.49      0.48      0.48       200\n",
      "        fear       0.74      0.62      0.68       119\n",
      "        love       0.76      0.78      0.77       119\n",
      "\n",
      "    accuracy                           0.61       881\n",
      "   macro avg       0.64      0.63      0.63       881\n",
      "weighted avg       0.62      0.61      0.61       881\n",
      "\n"
     ]
    }
   ],
   "source": [
    "from sklearn import metrics\n",
    "\n",
    "# get predictions for the test set\n",
    "predicted = classifier.predict(X_test_normal)\n",
    "\n",
    "print(metrics.classification_report(y_test_normal, predicted, target_names=label2int.keys()))"
   ]
  }
 ],
 "metadata": {
  "kernelspec": {
   "display_name": "Python 3 (ipykernel)",
   "language": "python",
   "name": "python3"
  },
  "language_info": {
   "codemirror_mode": {
    "name": "ipython",
    "version": 3
   },
   "file_extension": ".py",
   "mimetype": "text/x-python",
   "name": "python",
   "nbconvert_exporter": "python",
   "pygments_lexer": "ipython3",
   "version": "3.10.9"
  }
 },
 "nbformat": 4,
 "nbformat_minor": 5
}
